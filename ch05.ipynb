{
 "cells": [
  {
   "cell_type": "markdown",
   "metadata": {},
   "source": [
    "<div align=\"right\" style=\"text-align:right;\">\n",
    "        <a href=\"https://metaquant.org/\">\n",
    "                <img style=\"width:400px;display:inline;\" width=\"400px\" src=\"https://images-1252829441.cos.ap-guangzhou.myqcloud.com/img/20200511155258.png\">\n",
    "        </a>\n",
    "</div>"
   ]
  },
  {
   "cell_type": "markdown",
   "metadata": {},
   "source": [
    "<div style=\"font-family:STKaiti;font-size:28px;font-weight:Bold;color:green;\">\n",
    "第五讲：条件与循环语句\n",
    "</div>"
   ]
  },
  {
   "cell_type": "markdown",
   "metadata": {},
   "source": [
    "<div style=\"font-family:STKaiti;font-size:22px;line-height:2\">\n",
    "\n",
    "<ul>\n",
    "<li><p>条件语句</p>\n",
    "<ul>\n",
    "<li>if-elif-else结构</li>\n",
    "<li>布尔运算符与多重条件</li>\n",
    "<li>缩进、复合语句和代码块</li>\n",
    "<li>其它条件语句结构</li>\n",
    "\n",
    "</ul>\n",
    "</li>\n",
    "<li><p>循环语句</p>\n",
    "<ul>\n",
    "<li>while语句</li>\n",
    "<li>for语句</li>\n",
    "<li>辅助语句</li>\n",
    "\n",
    "</ul>\n",
    "</li>\n",
    "<li><p>上节课练习讲解</p>\n",
    "</li>\n",
    "<li><p>本节练习</p>\n",
    "</li>\n",
    "\n",
    "</ul>\n",
    "\n",
    "\n",
    "\n",
    "\n",
    "\n",
    "\n",
    "</div>"
   ]
  },
  {
   "cell_type": "markdown",
   "metadata": {},
   "source": [
    "<div style=\"font-family:STKaiti;font-size:26px;font-weight:Bold;color:black\">\n",
    "    <u> 一、条件语句</u>\n",
    "</div>"
   ]
  },
  {
   "cell_type": "markdown",
   "metadata": {},
   "source": [
    "<div style=\"font-family:STKaiti;font-size:24px;font-weight:Bold;color:black\">\n",
    "(一)if-elif-else结构\n",
    "</div>"
   ]
  },
  {
   "cell_type": "markdown",
   "metadata": {},
   "source": [
    "<div style=\"font-family:STKaiti;font-size:22px;line-height:2\">\n",
    "If就对应如果，elif是else if的简写，对应额外的判断条件，而else则对应否则，也就是所有判断条件都不满足的情况，这三个关键字结合起来就构成python语言中条件判断的if-elif-else结构。\n",
    "\n",
    "</div>"
   ]
  },
  {
   "cell_type": "code",
   "execution_count": null,
   "metadata": {},
   "outputs": [],
   "source": [
    "if condition_1:\n",
    "    statement_block_1\n",
    "elif condition_2:\n",
    "    statement_block_2\n",
    "else:\n",
    "    statement_block_3"
   ]
  },
  {
   "cell_type": "code",
   "execution_count": 3,
   "metadata": {},
   "outputs": [
    {
     "name": "stdin",
     "output_type": "stream",
     "text": [
      "please input a number: -5\n"
     ]
    },
    {
     "name": "stdout",
     "output_type": "stream",
     "text": [
      "the number is negative!\n"
     ]
    }
   ],
   "source": [
    "number = int(input(\"please input a number:\"))\n",
    "\n",
    "if number > 0:\n",
    "    print(\"the number is positive!\")\n",
    "elif number == 0:\n",
    "    print(\"the number is zero!\")\n",
    "else:\n",
    "    print(\"the number is negative!\")"
   ]
  },
  {
   "cell_type": "markdown",
   "metadata": {},
   "source": [
    "<div style=\"font-family:STKaiti;font-size:24px;font-weight:Bold;color:black\">\n",
    "(二)布尔运算符与多重条件\n",
    "</div>"
   ]
  },
  {
   "cell_type": "markdown",
   "metadata": {},
   "source": [
    "<div style=\"font-family:STKaiti;font-size:22px;line-height:2\">\n",
    "布尔运算运算符有三个，分别是AND，OR 和 NOT，我们可以用布尔运算符把多个布尔运算的表达式连接起来，从而实现更为复杂的条件判断。\n",
    "</div>"
   ]
  },
  {
   "cell_type": "code",
   "execution_count": 7,
   "metadata": {},
   "outputs": [
    {
     "name": "stdin",
     "output_type": "stream",
     "text": [
      "please input an integer between 1 and 20: 15\n"
     ]
    },
    {
     "name": "stdout",
     "output_type": "stream",
     "text": [
      "this is an odd number and not a prime number.\n"
     ]
    }
   ],
   "source": [
    "prime_numbers = [2,3,5,7,11,13,17,19]\n",
    "\n",
    "num = int(input(\"please input an integer between 1 and 20:\"))\n",
    "\n",
    "if num % 2 == 0 and num in prime_numbers:\n",
    "    print('this is an even number and a prime number.')\n",
    "elif num % 2 == 0 and num not in prime_numbers:\n",
    "    print('this is an even number and not a prime number.')\n",
    "elif num % 2 == 1 and num in prime_numbers:\n",
    "    print('this is an odd number and a prime number.')\n",
    "else:\n",
    "    print('this is an odd number and not a prime number.')    "
   ]
  },
  {
   "cell_type": "markdown",
   "metadata": {},
   "source": [
    "<div style=\"font-family:STKaiti;font-size:22px;line-height:2\">\n",
    "使用AND运算符连接多个判断条件时，应该尽量把有可能判断为假的条件放在前面，这样一旦条件被判断为假，后面的条件就不用再判断，这样可以提高程序运行的效率。同理，因为OR运算符连接的多个条件中只要有一个条件为真，那么结果就为真，所以我们应该尽量把有可能判断为真的条件放在前面。\n",
    "</div>"
   ]
  },
  {
   "cell_type": "markdown",
   "metadata": {},
   "source": [
    "<div style=\"font-family:STKaiti;font-size:24px;font-weight:Bold;color:black\">\n",
    "(三)缩进、复合语句与代码块\n",
    "</div>"
   ]
  },
  {
   "cell_type": "markdown",
   "metadata": {},
   "source": [
    "<div style=\"font-family:STKaiti;font-size:22px;line-height:2\">\n",
    "python是用缩进的方式组织代码的层次结构的，缩进相同的语句就构成一个代码块，同一个层次的代码必须严格左对齐，没有缩进的代码是最高层次的。像if关键字引导的这种条件语句，或者我们之后会讲到的while，for等关键字引导的循环语句都称为复合语句，复合语句的首行以关键字开始，以冒号结束，首行之后缩进相同的代码都构成一个代码块。\n",
    "\n",
    "</div>"
   ]
  },
  {
   "cell_type": "code",
   "execution_count": null,
   "metadata": {},
   "outputs": [],
   "source": [
    "# 编辑器自动缩进示例\n",
    "\n",
    "if 3 - 2 >0:\n",
    "    "
   ]
  },
  {
   "cell_type": "markdown",
   "metadata": {},
   "source": [
    "<div style=\"font-family:STKaiti;font-size:24px;font-weight:Bold;color:black\">\n",
    "(四)其它条件语句结构\n",
    "</div>"
   ]
  },
  {
   "cell_type": "markdown",
   "metadata": {},
   "source": [
    "<div style=\"font-family:STKaiti;font-size:22px;font-weight:Bold;color:blue\">\n",
    "1.简单的if语句\n",
    "</div>"
   ]
  },
  {
   "cell_type": "code",
   "execution_count": 8,
   "metadata": {},
   "outputs": [],
   "source": [
    "score = 52\n",
    "\n",
    "if score >= 60 :\n",
    "    print('Congratulations, you passed the exam.')"
   ]
  },
  {
   "cell_type": "markdown",
   "metadata": {},
   "source": [
    "<div style=\"font-family:STKaiti;font-size:22px;font-weight:Bold;color:blue\">\n",
    "2.if-else结构\n",
    "</div>"
   ]
  },
  {
   "cell_type": "code",
   "execution_count": 9,
   "metadata": {},
   "outputs": [
    {
     "name": "stdout",
     "output_type": "stream",
     "text": [
      "Sorry, you failed the exam.\n"
     ]
    }
   ],
   "source": [
    "if score >= 60:\n",
    "    print('Congratulations, you passed the exam.')\n",
    "else:\n",
    "    print('Sorry, you failed the exam.')"
   ]
  },
  {
   "cell_type": "markdown",
   "metadata": {},
   "source": [
    "<div style=\"font-family:STKaiti;font-size:22px;font-weight:Bold;color:blue\">\n",
    "3.多个elif语句\n",
    "</div>"
   ]
  },
  {
   "cell_type": "code",
   "execution_count": null,
   "metadata": {},
   "outputs": [],
   "source": [
    "if score < 60:\n",
    "    print('failed!')\n",
    "elif 60 <= score < 80:\n",
    "    print('good!')\n",
    "elif 80 <= socre < 90:\n",
    "    print('very good!')\n",
    "elif 90 <= score <= 100:\n",
    "    print('excellent!')"
   ]
  },
  {
   "cell_type": "markdown",
   "metadata": {},
   "source": [
    "<div style=\"font-family:STKaiti;font-size:22px;font-weight:Bold;color:blue\">\n",
    "4.if语句嵌套\n",
    "</div>"
   ]
  },
  {
   "cell_type": "code",
   "execution_count": null,
   "metadata": {},
   "outputs": [],
   "source": [
    "prime_numbers = [2,3,5,7,11,13,17,19]\n",
    "\n",
    "num = int(input(\"please input an integer between 1 and 20:\"))\n",
    "\n",
    "if num % 2 == 0:\n",
    "    if num in prime_numbers:\n",
    "        print('this is an even number and a prime number.')\n",
    "    else:\n",
    "        print('this is an even number and not a prime number.')\n",
    "else:\n",
    "    if num in prime_numbers:\n",
    "        print('this is an odd number and a prime number.')\n",
    "    else:\n",
    "        print('this is an odd number and not a prime number.')   "
   ]
  },
  {
   "cell_type": "markdown",
   "metadata": {},
   "source": [
    "<div style=\"font-family:STKaiti;font-size:26px;font-weight:Bold;color:black\">\n",
    "    <u> 二、循环语句</u>\n",
    "</div>"
   ]
  },
  {
   "cell_type": "markdown",
   "metadata": {},
   "source": [
    "<div style=\"font-family:STKaiti;font-size:24px;font-weight:Bold;color:black\">\n",
    "(一)while语句\n",
    "</div>"
   ]
  },
  {
   "cell_type": "markdown",
   "metadata": {},
   "source": [
    "<div style=\"font-family:STKaiti;font-size:22px;line-height:2\">\n",
    "对于while循环，只要条件为真，就会一直执行相应的代码块，直到条件不再为真为止。\n",
    "\n",
    "</div>"
   ]
  },
  {
   "cell_type": "code",
   "execution_count": null,
   "metadata": {},
   "outputs": [],
   "source": [
    "count = 1\n",
    "\n",
    "while count < 11:  \n",
    "    print(count)\n",
    "    count = count + 1  # 每执行一次循环，count变量增加一"
   ]
  },
  {
   "cell_type": "code",
   "execution_count": 10,
   "metadata": {},
   "outputs": [
    {
     "ename": "KeyboardInterrupt",
     "evalue": "",
     "output_type": "error",
     "traceback": [
      "\u001b[1;31m---------------------------------------------------------------------------\u001b[0m",
      "\u001b[1;31mKeyboardInterrupt\u001b[0m                         Traceback (most recent call last)",
      "\u001b[1;32m<ipython-input-10-51971cc9819f>\u001b[0m in \u001b[0;36m<module>\u001b[1;34m\u001b[0m\n\u001b[0;32m      2\u001b[0m \u001b[1;33m\u001b[0m\u001b[0m\n\u001b[0;32m      3\u001b[0m \u001b[1;32mwhile\u001b[0m \u001b[1;32mTrue\u001b[0m\u001b[1;33m:\u001b[0m\u001b[1;33m\u001b[0m\u001b[1;33m\u001b[0m\u001b[0m\n\u001b[1;32m----> 4\u001b[1;33m     \u001b[0mcount\u001b[0m \u001b[1;33m=\u001b[0m \u001b[0mcount\u001b[0m \u001b[1;33m+\u001b[0m \u001b[1;36m1\u001b[0m\u001b[1;33m\u001b[0m\u001b[1;33m\u001b[0m\u001b[0m\n\u001b[0m",
      "\u001b[1;31mKeyboardInterrupt\u001b[0m: "
     ]
    }
   ],
   "source": [
    "count = 1\n",
    "\n",
    "while True:\n",
    "    count = count + 1"
   ]
  },
  {
   "cell_type": "markdown",
   "metadata": {},
   "source": [
    "<div style=\"font-family:STKaiti;font-size:24px;font-weight:Bold;color:black\">\n",
    "(二)for语句\n",
    "</div>"
   ]
  },
  {
   "cell_type": "markdown",
   "metadata": {},
   "source": [
    "<div style=\"font-family:STKaiti;font-size:22px;font-weight:Bold;color:blue\">\n",
    "1.序列的迭代遍历\n",
    "</div>"
   ]
  },
  {
   "cell_type": "code",
   "execution_count": 11,
   "metadata": {},
   "outputs": [
    {
     "name": "stdout",
     "output_type": "stream",
     "text": [
      "2\n",
      "3\n",
      "5\n",
      "7\n",
      "11\n",
      "13\n",
      "17\n",
      "19\n"
     ]
    }
   ],
   "source": [
    "prime_numbers = [2,3,5,7,11,13,17,19]\n",
    "\n",
    "for prime in prime_numbers:\n",
    "    print(prime)"
   ]
  },
  {
   "cell_type": "markdown",
   "metadata": {},
   "source": [
    "<div style=\"font-family:STKaiti;font-size:22px;font-weight:Bold;color:blue\">\n",
    "2.range函数\n",
    "</div>"
   ]
  },
  {
   "cell_type": "code",
   "execution_count": 12,
   "metadata": {},
   "outputs": [
    {
     "name": "stdout",
     "output_type": "stream",
     "text": [
      "[2, 4, 6, 8, 10]\n",
      "[0, 1, 2, 3, 4, 5, 6, 7, 8, 9]\n",
      "[1, 2, 3, 4, 5, 6, 7, 8, 9, 10]\n"
     ]
    }
   ],
   "source": [
    "# range函数可以产生一个指定首项、末项和步长的数列\n",
    "\n",
    "print(list(range(2,11,2)))  # 完型形式: range(start,end,step)\n",
    "\n",
    "print(list(range(10)))  # 省略形式一：range(end)\n",
    "\n",
    "print(list(range(1,11)))  # 省略形式二：range(start,end)"
   ]
  },
  {
   "cell_type": "code",
   "execution_count": 13,
   "metadata": {},
   "outputs": [
    {
     "name": "stdout",
     "output_type": "stream",
     "text": [
      "1\n",
      "3\n",
      "5\n",
      "7\n",
      "9\n"
     ]
    }
   ],
   "source": [
    "# 使用range函数对数字序列进行迭代\n",
    "\n",
    "for number in range(1,11,2):\n",
    "    print(number)"
   ]
  },
  {
   "cell_type": "code",
   "execution_count": 14,
   "metadata": {},
   "outputs": [
    {
     "name": "stdout",
     "output_type": "stream",
     "text": [
      "10\n",
      "9\n",
      "8\n",
      "7\n",
      "6\n",
      "5\n",
      "4\n",
      "3\n",
      "2\n",
      "1\n"
     ]
    }
   ],
   "source": [
    "# 把步长设为负数，从而逆序打印数字\n",
    "\n",
    "for number in range(10,0,-1):\n",
    "    print(number)"
   ]
  },
  {
   "cell_type": "code",
   "execution_count": 15,
   "metadata": {},
   "outputs": [
    {
     "name": "stdout",
     "output_type": "stream",
     "text": [
      "0 apple\n",
      "1 pear\n",
      "2 banana\n",
      "3 watermelon\n",
      "4 orange\n"
     ]
    }
   ],
   "source": [
    "# 把range函数和len函数结合起来通过索引的方式来遍历序列\n",
    "\n",
    "fruit = ['apple','pear','banana','watermelon','orange']\n",
    "\n",
    "for i in range(len(fruit)):\n",
    "    print(i,fruit[i])"
   ]
  },
  {
   "cell_type": "markdown",
   "metadata": {},
   "source": [
    "<div style=\"font-family:STKaiti;font-size:24px;font-weight:Bold;color:black\">\n",
    "(三)辅助语句\n",
    "</div>"
   ]
  },
  {
   "cell_type": "markdown",
   "metadata": {},
   "source": [
    "<div style=\"font-family:STKaiti;font-size:22px;font-weight:Bold;color:blue\">\n",
    "1.break语句\n",
    "</div>"
   ]
  },
  {
   "cell_type": "markdown",
   "metadata": {},
   "source": [
    "<div style=\"font-family:STKaiti;font-size:22px;line-height:2\">\n",
    "Break语句可以让我们跳出 for 和 while 的循环体，提前终止循环。\n",
    "\n",
    "</div>"
   ]
  },
  {
   "cell_type": "markdown",
   "metadata": {},
   "source": [
    "![](https://static.runoob.com/images/mix/python-while.webp)"
   ]
  },
  {
   "cell_type": "code",
   "execution_count": 16,
   "metadata": {},
   "outputs": [
    {
     "name": "stdout",
     "output_type": "stream",
     "text": [
      "1\n",
      "2\n",
      "3\n",
      "4\n",
      "5\n",
      "this is the end!\n"
     ]
    }
   ],
   "source": [
    "n = 1\n",
    "\n",
    "while n <= 100:\n",
    "    if n > 5:\n",
    "        break  # break语句和if条件句结合，实现特定条件下提前退出循环\n",
    "    print(n)\n",
    "    n = n + 1\n",
    "\n",
    "print('this is the end!')"
   ]
  },
  {
   "cell_type": "markdown",
   "metadata": {},
   "source": [
    "<div style=\"font-family:STKaiti;font-size:22px;font-weight:Bold;color:blue\">\n",
    "2.continue语句\n",
    "</div>"
   ]
  },
  {
   "cell_type": "markdown",
   "metadata": {},
   "source": [
    "<div style=\"font-family:STKaiti;font-size:22px;line-height:2\">\n",
    "Continue语句可以让程序跳过当前的这次循环，直接开始下一次循环。\n",
    "\n",
    "</div>"
   ]
  },
  {
   "cell_type": "code",
   "execution_count": 17,
   "metadata": {},
   "outputs": [
    {
     "name": "stdout",
     "output_type": "stream",
     "text": [
      "1\n",
      "3\n",
      "5\n",
      "7\n",
      "9\n"
     ]
    }
   ],
   "source": [
    "for i in range(10):\n",
    "    if i % 2 == 0:\n",
    "        continue  # 如果i是一个偶数，则直接进行下一轮循环，之后的print(i)语句不会执行\n",
    "    print(i)"
   ]
  },
  {
   "cell_type": "markdown",
   "metadata": {},
   "source": [
    "<div style=\"font-family:STKaiti;font-size:22px;font-weight:Bold;color:blue\">\n",
    "3.else语句\n",
    "</div>"
   ]
  },
  {
   "cell_type": "markdown",
   "metadata": {},
   "source": [
    "<div style=\"font-family:STKaiti;font-size:22px;line-height:2\">\n",
    "循环语句可以有 else 子句，它在穷尽列表(for循环)或条件变为 false (while循环)导致循环终止时被执行，但循环被 break 终止时不执行。\n",
    "\n",
    "</div>"
   ]
  },
  {
   "cell_type": "code",
   "execution_count": 18,
   "metadata": {},
   "outputs": [
    {
     "name": "stdout",
     "output_type": "stream",
     "text": [
      "1\n",
      "2\n",
      "3\n",
      "4\n",
      "5\n",
      "i is no longer less than 6\n"
     ]
    }
   ],
   "source": [
    "# 正常退出循环时会执行else语句\n",
    "\n",
    "i = 1\n",
    "\n",
    "while i < 6:\n",
    "    print(i)\n",
    "    i = i + 1\n",
    "else:\n",
    "    print(\"i is no longer less than 6\")"
   ]
  },
  {
   "cell_type": "code",
   "execution_count": 19,
   "metadata": {},
   "outputs": [
    {
     "name": "stdout",
     "output_type": "stream",
     "text": [
      "1\n",
      "2\n",
      "3\n",
      "4\n",
      "5\n"
     ]
    }
   ],
   "source": [
    "# 通过break语句退出循环时会执行else语句不会被执行\n",
    "\n",
    "n = 1\n",
    "\n",
    "while n <= 100:\n",
    "    if n > 5:\n",
    "        break  \n",
    "    print(n)\n",
    "    n = n + 1\n",
    "else:\n",
    "    print('this is the end!')"
   ]
  },
  {
   "cell_type": "markdown",
   "metadata": {},
   "source": [
    "<div style=\"font-family:STKaiti;font-size:22px;font-weight:Bold;color:blue\">\n",
    "4.pass语句\n",
    "</div>"
   ]
  },
  {
   "cell_type": "markdown",
   "metadata": {},
   "source": [
    "<div style=\"font-family:STKaiti;font-size:22px;line-height:2\">\n",
    "pass语句不做任何事情，一般只用做占位语句。\n",
    "\n",
    "</div>"
   ]
  },
  {
   "cell_type": "code",
   "execution_count": null,
   "metadata": {},
   "outputs": [],
   "source": [
    "# 条件语句中使用passs\n",
    "\n",
    "if some_condition:\n",
    "    pass\n",
    "else:\n",
    "    pass\n",
    "\n",
    "# 循环语句中使用pass\n",
    "\n",
    "while n < 100:\n",
    "    pass\n",
    "\n",
    "# 定义函数时使用pass\n",
    "\n",
    "def myfunc():\n",
    "    pass\n",
    "\n",
    "# 定义类时使用pass\n",
    "\n",
    "class Person:\n",
    "    pass"
   ]
  },
  {
   "cell_type": "markdown",
   "metadata": {},
   "source": [
    "<div style=\"font-family:STKaiti;font-size:26px;font-weight:Bold;color:black\">\n",
    "    <u> 三、上节课练习答案</u>\n",
    "</div>"
   ]
  },
  {
   "cell_type": "markdown",
   "metadata": {},
   "source": [
    "<div style=\"font-family:STKaiti;font-size:22px;font-weight:Bold;color:blue\">\n",
    "1.根据以下表格中的数据，使用三种方法创建一个字典：\n",
    "</div>"
   ]
  },
  {
   "cell_type": "markdown",
   "metadata": {},
   "source": [
    "![img](https://images-1252829441.cos.ap-guangzhou.myqcloud.com/img/20200527113823.png)\n"
   ]
  },
  {
   "cell_type": "code",
   "execution_count": 20,
   "metadata": {},
   "outputs": [
    {
     "name": "stdout",
     "output_type": "stream",
     "text": [
      "{'US': 100572, 'Brazil': 24593, 'Russia': 3807, 'Spain': 27117, 'UK': 37130, 'Italy': 32955}\n",
      "{'US': 100572, 'Brazil': 24593, 'Russia': 3807, 'Spain': 27117, 'UK': 37130, 'Italy': 32955}\n",
      "{'US': 100572, 'Brazil': 24593, 'Russia': 3807, 'Spain': 27117, 'UK': 37130, 'Italy': 32955}\n"
     ]
    }
   ],
   "source": [
    "covid_death = {'US':100572,'Brazil':24593,'Russia':3807,'Spain':27117,'UK':37130,'Italy':32955}\n",
    "\n",
    "print(covid_death)\n",
    "\n",
    "covid_death_one = dict([('US',100572),('Brazil',24593),('Russia',3807),('Spain',27117),('UK',37130),('Italy',32955)])\n",
    "\n",
    "print(covid_death_one)\n",
    "\n",
    "covid_death_two = dict(US=100572,Brazil=24593,Russia=3807,Spain=27117,UK=37130,Italy=32955)\n",
    "\n",
    "print(covid_death_two)"
   ]
  },
  {
   "cell_type": "markdown",
   "metadata": {},
   "source": [
    "<div style=\"font-family:STKaiti;font-size:22px;font-weight:Bold;color:blue\">\n",
    "2.对上面已经创建的字典，提取美国、英国与法国的死亡人数，如果字典中不存在该键，则创建一个并将默认值设为N/A.\n",
    "</div>"
   ]
  },
  {
   "cell_type": "code",
   "execution_count": 21,
   "metadata": {},
   "outputs": [
    {
     "name": "stdout",
     "output_type": "stream",
     "text": [
      "100572\n",
      "37130\n",
      "N/A\n",
      "{'US': 100572, 'Brazil': 24593, 'Russia': 3807, 'Spain': 27117, 'UK': 37130, 'Italy': 32955, 'France': 'N/A'}\n"
     ]
    }
   ],
   "source": [
    "us_death = covid_death.setdefault('US','N/A')\n",
    "\n",
    "print(us_death)\n",
    "\n",
    "uk_death = covid_death.setdefault('UK','N/A')\n",
    "\n",
    "print(uk_death)\n",
    "\n",
    "france_death = covid_death.setdefault('France','N/A')\n",
    "\n",
    "print(france_death)\n",
    "\n",
    "print(covid_death)"
   ]
  },
  {
   "cell_type": "markdown",
   "metadata": {},
   "source": [
    "<div style=\"font-family:STKaiti;font-size:22px;font-weight:Bold;color:blue\">\n",
    "3.提取以上字典中的死亡人数形成列表，并做降序排列。\n",
    "</div>"
   ]
  },
  {
   "cell_type": "code",
   "execution_count": 22,
   "metadata": {},
   "outputs": [
    {
     "name": "stdout",
     "output_type": "stream",
     "text": [
      "[100572, 37130, 32955, 27117, 24593, 3807]\n"
     ]
    }
   ],
   "source": [
    "covid_death = {'US':100572,'Brazil':24593,'Russia':3807,'Spain':27117,'UK':37130,'Italy':32955}\n",
    "\n",
    "covid_death_list = list(covid_death.values())  # 将字典中的值转化为列表\n",
    "\n",
    "covid_death_list.sort(reverse=True)\n",
    "\n",
    "print(covid_death_list)"
   ]
  },
  {
   "cell_type": "markdown",
   "metadata": {},
   "source": [
    "<div style=\"font-family:STKaiti;font-size:22px;font-weight:Bold;color:blue\">\n",
    "4.计算以下两个集合的并集、交集、差集(集合even_numbers在前)和对称差分。\n",
    "</div>"
   ]
  },
  {
   "cell_type": "code",
   "execution_count": 23,
   "metadata": {},
   "outputs": [
    {
     "name": "stdout",
     "output_type": "stream",
     "text": [
      "{1, 2, 4, 6, 8, 9, 10}\n",
      "{4}\n",
      "{8, 2, 10, 6}\n",
      "{1, 2, 6, 8, 9, 10}\n"
     ]
    }
   ],
   "source": [
    "even_numbers = {2,4,6,8,10}\n",
    "\n",
    "square_numbers = {1,4,9}\n",
    "\n",
    "print(even_numbers | square_numbers)\n",
    "\n",
    "print(even_numbers & square_numbers)\n",
    "\n",
    "print(even_numbers - square_numbers)\n",
    "\n",
    "print(even_numbers ^ square_numbers)"
   ]
  },
  {
   "cell_type": "markdown",
   "metadata": {},
   "source": [
    "<div style=\"font-family:STKaiti;font-size:26px;font-weight:Bold;color:black\">\n",
    "    <u> 四、本节课练习</u>\n",
    "</div>"
   ]
  },
  {
   "cell_type": "markdown",
   "metadata": {},
   "source": [
    "<div style=\"font-family:STKaiti;font-size:22px;font-weight:Bold;color:blue\">\n",
    "1.数列$a_n=3n+2(a_1=2)$，使用range函数列出该数列小于等于50的所有项。\n",
    "</div>"
   ]
  },
  {
   "cell_type": "code",
   "execution_count": null,
   "metadata": {},
   "outputs": [],
   "source": []
  },
  {
   "cell_type": "markdown",
   "metadata": {},
   "source": [
    "<div style=\"font-family:STKaiti;font-size:22px;font-weight:Bold;color:blue\">\n",
    "2.质数，又称素数，是指在大于1的自然数中，除了1和该数自身外，无法被其他自然数整除的数。试编写一个程序，从用户处获取一个自然数，并返回该数是否是一个质数。\n",
    "</div>"
   ]
  },
  {
   "cell_type": "code",
   "execution_count": null,
   "metadata": {},
   "outputs": [],
   "source": []
  }
 ],
 "metadata": {
  "kernelspec": {
   "display_name": "Python 3",
   "language": "python",
   "name": "python3"
  },
  "language_info": {
   "codemirror_mode": {
    "name": "ipython",
    "version": 3
   },
   "file_extension": ".py",
   "mimetype": "text/x-python",
   "name": "python",
   "nbconvert_exporter": "python",
   "pygments_lexer": "ipython3",
   "version": "3.7.6"
  }
 },
 "nbformat": 4,
 "nbformat_minor": 4
}
