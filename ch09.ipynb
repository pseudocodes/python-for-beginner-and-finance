{
 "cells": [
  {
   "cell_type": "markdown",
   "metadata": {},
   "source": [
    "<div align=\"right\" style=\"text-align:right;\">\n",
    "        <a href=\"https://metaquant.org/\">\n",
    "                <img style=\"width:400px;display:inline;\" width=\"400px\" src=\"https://images-1252829441.cos.ap-guangzhou.myqcloud.com/img/20200511155258.png\">\n",
    "        </a>\n",
    "</div>"
   ]
  },
  {
   "cell_type": "markdown",
   "metadata": {},
   "source": [
    "<div style=\"font-family:STKaiti;font-size:28px;font-weight:Bold;color:green;\">\n",
    "第九讲：类(高级特性)\n",
    "</div>"
   ]
  },
  {
   "cell_type": "markdown",
   "metadata": {},
   "source": [
    "<div style=\"font-family:STKaiti;font-size:22px;line-height:2\">\n",
    "\n",
    "<ul>\n",
    "<li>继承</li>\n",
    "<li>继承中扩展</li>\n",
    "<li>多态</li>\n",
    "<li>操作符重载：修改Vector类</li>\n",
    "<li>上节课练习讲解</li>\n",
    "<li>本节课练习</li>\n",
    "\n",
    "</ul>\n",
    "\n",
    "\n",
    "\n",
    "\n",
    "\n",
    "\n",
    "\n",
    "\n",
    "\n",
    "</div>"
   ]
  },
  {
   "cell_type": "markdown",
   "metadata": {},
   "source": [
    "<div style=\"font-family:STKaiti;font-size:26px;font-weight:Bold;color:black\">\n",
    "    <u> 一、继承</u>\n",
    "</div>"
   ]
  },
  {
   "cell_type": "markdown",
   "metadata": {},
   "source": [
    "<div style=\"font-family:STKaiti;font-size:22px;line-height:2\">\n",
    "\n",
    "在python中，每个类至少有一个父类，这两个类之间的关系可以用父类—子类、超类—子类或者基类—派生类的方式描述。\n",
    "\n",
    "\n",
    "\n",
    "</div>"
   ]
  },
  {
   "cell_type": "code",
   "execution_count": null,
   "metadata": {},
   "outputs": [],
   "source": [
    "class MyClass(object):\n",
    "    pass\n",
    "\n",
    "class ChildrenClass(MyClass):\n",
    "    pass\n",
    "\n",
    "class GrandChildrenClass(ChildrenClass):\n",
    "    pass"
   ]
  },
  {
   "cell_type": "code",
   "execution_count": null,
   "metadata": {},
   "outputs": [],
   "source": [
    "# 查看类的__base__属性，判断其父类\n",
    "\n",
    "print(MyClass.__base__)\n",
    "\n",
    "print(ChildrenClass.__base__)\n",
    "\n",
    "print(GrandChildrenClass.__base__)"
   ]
  },
  {
   "cell_type": "code",
   "execution_count": null,
   "metadata": {},
   "outputs": [],
   "source": [
    "# 使用issubclass函数查看继承关系\n",
    "\n",
    "print(issubclass(ChildrenClass,MyClass))\n",
    "\n",
    "print(issubclass(GrandChildrenClass,ChildrenClass))\n",
    "\n",
    "print(issubclass(GrandChildrenClass,MyClass))"
   ]
  },
  {
   "cell_type": "markdown",
   "metadata": {},
   "source": [
    "<div style=\"font-family:STKaiti;font-size:22px;line-height:2\">\n",
    "\n",
    "继承最大的作用是子类可以重用父类已有的代码，在无需编写重复代码的情况下就可以获得父类已有的功能，从而进一步提高代码的复用率。\n",
    "\n",
    "\n",
    "\n",
    "</div>"
   ]
  },
  {
   "cell_type": "code",
   "execution_count": null,
   "metadata": {},
   "outputs": [],
   "source": [
    "class Animal(object):\n",
    "    def speak(self):\n",
    "        print('animal is speaking!')\n",
    "    \n",
    "    def move(self):\n",
    "        print('animal is moving!')\n",
    "\n",
    "\n",
    "class Dog(Animal):\n",
    "    pass\n",
    "\n",
    "\n",
    "class Bird(Animal):\n",
    "    pass\n",
    "\n",
    "\n",
    "class Snake(Animal):\n",
    "    pass"
   ]
  },
  {
   "cell_type": "code",
   "execution_count": null,
   "metadata": {},
   "outputs": [],
   "source": [
    "dog = Dog()\n",
    "\n",
    "dog.speak()\n",
    "\n",
    "dog.move()\n",
    "\n",
    "bird = Bird()\n",
    "\n",
    "bird.speak()\n",
    "\n",
    "bird.move()\n",
    "\n",
    "snake = Snake()\n",
    "\n",
    "snake.speak()\n",
    "\n",
    "snake.move()"
   ]
  },
  {
   "cell_type": "markdown",
   "metadata": {},
   "source": [
    "<div style=\"font-family:STKaiti;font-size:26px;font-weight:Bold;color:black\">\n",
    "    <u> 二、继承中扩展</u>\n",
    "</div>"
   ]
  },
  {
   "cell_type": "code",
   "execution_count": null,
   "metadata": {},
   "outputs": [],
   "source": [
    "class Father:\n",
    "    def __init__(self,name,age):\n",
    "        self.name = name\n",
    "        self.age = age\n",
    "    \n",
    "    def introduce(self):\n",
    "        return \"my name is %s,and I'm %d years old.\" % (self.name,self.age)\n",
    "\n",
    "    \n",
    "class Child(Father):\n",
    "    def __init__(self,name,age,father,mother):\n",
    "        super().__init__(name,age)  # 调用super()，相当于Father.__init__(name,age) \n",
    "        self.father = father\n",
    "        self.mother = mother\n",
    "    \n",
    "    def introduce__parents(self):\n",
    "        return \"my father's name is %s, and my mother's name is %s\" % (self.father,self.mother)"
   ]
  },
  {
   "cell_type": "code",
   "execution_count": null,
   "metadata": {},
   "outputs": [],
   "source": [
    "bruce = Child('Bruce Green',10,'Jim Green','Lucy Green')\n",
    "\n",
    "print(bruce.introduce())  # introduce()方法在Father中定义\n",
    "\n",
    "print(bruce.introduce__parents())"
   ]
  },
  {
   "cell_type": "markdown",
   "metadata": {},
   "source": [
    "<div style=\"font-family:STKaiti;font-size:22px;line-height:2\">\n",
    "\n",
    "super函数可以在子类中调用父类的方法，从而可以让我们复用父类中的代码，因此凡是涉及到需要在子类调用父类方法的时候，都可以使用super函数。\n",
    "\n",
    "\n",
    "</div>"
   ]
  },
  {
   "cell_type": "markdown",
   "metadata": {},
   "source": [
    "<div style=\"font-family:STKaiti;font-size:26px;font-weight:Bold;color:black\">\n",
    "    <u> 二、多态</u>\n",
    "</div>"
   ]
  },
  {
   "cell_type": "markdown",
   "metadata": {},
   "source": [
    "<div style=\"font-family:STKaiti;font-size:22px;line-height:2\">\n",
    "\n",
    "当我们在子类中定义和父类中一样的方法时，子类中的方法就会覆盖父类中的方法，从而让子类表现出父类不一样的行为，这就是所谓的多态性。\n",
    "\n",
    "\n",
    "\n",
    "\n",
    "</div>"
   ]
  },
  {
   "cell_type": "code",
   "execution_count": null,
   "metadata": {},
   "outputs": [],
   "source": [
    "class Dog(Animal):\n",
    "    def speak(self):\n",
    "        print('Bark!')\n",
    "    \n",
    "    def move(self):\n",
    "        print('Running!')\n",
    "\n",
    "\n",
    "class Bird(Animal):\n",
    "    def speak(self):\n",
    "        print('Tweet!')\n",
    "    \n",
    "    def move(self):\n",
    "        print('Flying!')\n",
    "\n",
    "\n",
    "class Snake(Animal):\n",
    "    def speak(self):\n",
    "        print('Hiss!')\n",
    "    \n",
    "    def move(self):\n",
    "        print('Crawling!')"
   ]
  },
  {
   "cell_type": "code",
   "execution_count": null,
   "metadata": {},
   "outputs": [],
   "source": [
    "dog = Dog()\n",
    "\n",
    "dog.speak()\n",
    "\n",
    "dog.move()\n",
    "\n",
    "bird = Bird()\n",
    "\n",
    "bird.speak()\n",
    "\n",
    "bird.move()\n",
    "\n",
    "snake = Snake()\n",
    "\n",
    "snake.speak()\n",
    "\n",
    "snake.move()"
   ]
  },
  {
   "cell_type": "markdown",
   "metadata": {},
   "source": [
    "<div style=\"font-family:STKaiti;font-size:22px;line-height:2\">\n",
    "\n",
    "多态性最大的好处是我们可以在不修改原来代码的情况下为程序增加新的功能，符合程序开发中著名的开闭原则，即“对扩展开放（Open for extension），对修改封闭（Closed for modification）”。\n",
    "\n",
    "\n",
    "\n",
    "\n",
    "</div>"
   ]
  },
  {
   "cell_type": "code",
   "execution_count": null,
   "metadata": {},
   "outputs": [],
   "source": [
    "def sound_like(name):\n",
    "    if isinstance(name,Dog):\n",
    "        print('Bark!')\n",
    "    elif isinstance(name,Bird):\n",
    "        print('Tweet!')\n",
    "    elif isinstance(name,Snake):\n",
    "        print('Hiss!')\n",
    "\n",
    "print(sound_like(dog))\n",
    "\n",
    "print(sound_like(bird))\n",
    "\n",
    "print(sound_like(snake))\n",
    "\n",
    "print(sound_like(cat))"
   ]
  },
  {
   "cell_type": "code",
   "execution_count": null,
   "metadata": {},
   "outputs": [],
   "source": [
    "def sound_like_advanced(name):\n",
    "    name.speak()\n",
    "\n",
    "print(sound_like_advanced(dog))\n",
    "\n",
    "print(sound_like_advanced(bird))\n",
    "\n",
    "print(sound_like_advanced(snake))"
   ]
  },
  {
   "cell_type": "code",
   "execution_count": null,
   "metadata": {},
   "outputs": [],
   "source": [
    "class Cat:\n",
    "    def speak(self):\n",
    "        print('Meow!')\n",
    "\n",
    "cat = Cat()\n",
    "\n",
    "sound_like_advanced(cat)"
   ]
  },
  {
   "cell_type": "markdown",
   "metadata": {},
   "source": [
    "<div style=\"font-family:STKaiti;font-size:22px;line-height:2\">\n",
    "<p>在静态类型语言中，多态必须通过继承来实现，函数中的参数输入父类Animal，而在实际传值时必须传入Animal子类的实例，通过用子类的方法覆盖父类的方法来实现不同的功能。</p>\n",
    "<p>而在像python这种动态类型语言中，并不要求严格的继承体系，只需要传入的对象有speak方法就可以了，至于它是不是ANIMAL的子类并不重要。</p>\n",
    "\n",
    "\n",
    "\n",
    "\n",
    "\n",
    "</div>"
   ]
  },
  {
   "cell_type": "markdown",
   "metadata": {},
   "source": [
    "<div style=\"font-family:STKaiti;font-size:26px;font-weight:Bold;color:black\">\n",
    "    <u> 四、操作符重载：修改Vector类</u>\n",
    "</div>"
   ]
  },
  {
   "cell_type": "markdown",
   "metadata": {},
   "source": [
    "<div style=\"font-family:STKaiti;font-size:22px;line-height:2\">\n",
    "\n",
    "重写特殊方法是python中实现**操作符重载**的方式，它可以允许每个类自定义基于操作符的特定行为。通过操作符重载，我们可以让我们自己定义的类拥有更加丰富的行为，更像python语言原生的数据类型。\n",
    "\n",
    "\n",
    "</div>"
   ]
  },
  {
   "cell_type": "code",
   "execution_count": null,
   "metadata": {},
   "outputs": [],
   "source": [
    "from math import acos,degrees\n",
    "\n",
    "class Vector(object):\n",
    "    def __init__(self,x,y):\n",
    "        self.x = x\n",
    "        self.y = y\n",
    "        self.size = (x**2 + y**2)**0.5\n",
    "    \n",
    "    def __repr__(self):\n",
    "        return \"vector(%.2f,%.2f)\" % (self.x,self.y)\n",
    "        \n",
    "    def __add__(self,vec):\n",
    "        x = self.x + vec.x\n",
    "        y = self.y + vec.y\n",
    "        return Vector(x,y)\n",
    "    \n",
    "    def __sub__(self,vec):\n",
    "        x = self.x - vec.x\n",
    "        y = self.y - vec.y\n",
    "        return Vector(x,y)\n",
    "    \n",
    "    def __mul__(self,multiplier):\n",
    "        if isinstance(multiplier,Vector):\n",
    "            ans = self.x * multiplier.x + self.y * multiplier.y\n",
    "            return ans\n",
    "        else:\n",
    "            x = self.x * multiplier\n",
    "            y = self.y * multiplier\n",
    "            return Vector(x,y)\n",
    "    \n",
    "    def __truediv__(self,vec):\n",
    "        radians = acos(self.__mul__(vec)/(self.size*vec.size))\n",
    "        return degrees(radians)\n",
    "    \n",
    "    def __rmul__(self,multiplier):\n",
    "        return self.__mul__(multiplier)"
   ]
  },
  {
   "cell_type": "code",
   "execution_count": null,
   "metadata": {},
   "outputs": [],
   "source": [
    "v = Vector(1,0)\n",
    "\n",
    "u = Vector(0,1)\n",
    "\n",
    "print(v + u)\n",
    "\n",
    "print(v - u)\n",
    "\n",
    "print(v * u)\n",
    "\n",
    "print(v * 3)\n",
    "\n",
    "print(v / u)"
   ]
  },
  {
   "cell_type": "markdown",
   "metadata": {},
   "source": [
    "<div style=\"font-family:STKaiti;font-size:22px;line-height:2\">\n",
    "\n",
    "常见的数学计算都有相应的反运算方法，比如加法的反运算方法是`__radd__`，减法的反运算方法是`__rsub__`，除法的反运算方法是`__rtruediv__`等等。反运算方法会在左操作数不支持相应的操作时被调用。\n",
    "\n",
    "\n",
    "</div>"
   ]
  },
  {
   "cell_type": "code",
   "execution_count": null,
   "metadata": {},
   "outputs": [],
   "source": [
    "number = 3\n",
    "\n",
    "# 相当于number.__mul__(v),但number作为整数并没有定义__mul__方法\n",
    "\n",
    "# 反运算方法会把调用方法的变量与方法的参数调换位置，即number.__rmul__(v)会变成v.__rmul__(number)\n",
    "\n",
    "number * v  "
   ]
  },
  {
   "cell_type": "markdown",
   "metadata": {},
   "source": [
    "<div style=\"font-family:STKaiti;font-size:26px;font-weight:Bold;color:black\">\n",
    "    <u> 五、上节课练习讲解</u>\n",
    "</div>"
   ]
  },
  {
   "cell_type": "markdown",
   "metadata": {},
   "source": [
    "<div style=\"font-family:STKaiti;font-size:22px;font-weight:Bold;color:blue\">\n",
    "1.对Vector类进行修改，使得它可以对三维及以上维度的向量进行计算(注：无需设计计算向量夹角的方法)。\n",
    "</div>"
   ]
  },
  {
   "cell_type": "code",
   "execution_count": null,
   "metadata": {},
   "outputs": [],
   "source": [
    "class HighDimensionalVector:\n",
    "    def __init__(self,*coordinates):\n",
    "        self.coordinates = coordinates\n",
    "        self.size = (sum([x**2 for x in coordinates]))**0.5\n",
    "    \n",
    "    def __repr__(self):\n",
    "        return \"vector\"+str(self.coordinates)\n",
    "    \n",
    "    def add(self,vec):\n",
    "        new_coordinates = [x+y for x,y in zip(self.coordinates,vec.coordinates)]\n",
    "        return HighDimensionalVector(*new_coordinates)\n",
    "    \n",
    "    def sub(self,vec):\n",
    "        new_coordinates = [x-y for x,y in zip(self.coordinates,vec.coordinates)]\n",
    "        return HighDimensionalVector(*new_coordinates)\n",
    "    \n",
    "    def number_product(self,number):\n",
    "        new_coordinates = [x*number for x in self.coordinates]\n",
    "        return HighDimensionalVector(*new_coordinates)\n",
    "\n",
    "    def dot_product(self,vec):\n",
    "        new_coordinates = [x*y for x,y in zip(self.coordinates,vec.coordinates)]\n",
    "        return sum(new_coordinates)"
   ]
  },
  {
   "cell_type": "code",
   "execution_count": null,
   "metadata": {},
   "outputs": [],
   "source": [
    "v = HighDimensionalVector(1,2,3,4)\n",
    "\n",
    "u = HighDimensionalVector(1,0,0,0)\n",
    "\n",
    "print(v.size)  # 计算向量v的大小\n",
    "\n",
    "print(v.add(u))  # 计算向量v和向量u的和\n",
    "\n",
    "print(v.sub(u))  # 计算向量v与向量u的差\n",
    "\n",
    "print(v.number_product(3))  # 计算向量v与数字3的数乘\n",
    "\n",
    "print(v.dot_product(u))  # 计算向量v与向量u的数量积"
   ]
  },
  {
   "cell_type": "markdown",
   "metadata": {},
   "source": [
    "<div style=\"font-family:STKaiti;font-size:22px;font-weight:Bold;color:blue\">\n",
    "2. 设计一个日期Date类，它有年、月、日三个属性，并有以下三个方法：\n",
    "\n",
    "- 当打印Date类时，能以\"1999/2/14\"这样的形式显示；\n",
    "- 返回当前日期在第几个季度；\n",
    "- 判断当前日期所在年份是闰年还是平年。\n",
    "</div>"
   ]
  },
  {
   "cell_type": "code",
   "execution_count": null,
   "metadata": {},
   "outputs": [],
   "source": [
    "class Date:\n",
    "    def __init__(self,year,month,date):\n",
    "        self.year = year\n",
    "        self.month = month\n",
    "        self.date = date\n",
    "    \n",
    "    def __repr__(self):\n",
    "        return \"%d/%d/%d\" % (self.year,self.month,self.date)\n",
    "    \n",
    "    def which_quarter(self):\n",
    "        if self.month in [1,2,3]:\n",
    "            return \"the first season\"\n",
    "        elif self.month in [4,5,6]:\n",
    "            return \"the second season\"\n",
    "        elif self.month in [7,8,9]:\n",
    "            return \"the third season\"\n",
    "        else:\n",
    "            return \"the fourth season\"\n",
    "    \n",
    "    def check_leap_year(self):\n",
    "        if self.year % 4 == 0 and self.year % 100 != 0:\n",
    "            return \"%d is leap year.\" % self.year\n",
    "        elif self.year % 400 == 0:\n",
    "            return \"%d is leap year\" % self.year\n",
    "        else:\n",
    "            return \"%d is ordinary year\" % self.year"
   ]
  },
  {
   "cell_type": "code",
   "execution_count": null,
   "metadata": {},
   "outputs": [],
   "source": [
    "today = Date(2020,7,1)\n",
    "\n",
    "print(today)\n",
    "\n",
    "print(today.which_quarter())\n",
    "\n",
    "print(today.check_leap_year())"
   ]
  },
  {
   "cell_type": "markdown",
   "metadata": {},
   "source": [
    "<div style=\"font-family:STKaiti;font-size:26px;font-weight:Bold;color:black\">\n",
    "    <u> 六、本节课练习</u>\n",
    "</div>"
   ]
  },
  {
   "cell_type": "markdown",
   "metadata": {},
   "source": [
    "<div style=\"font-family:STKaiti;font-size:22px;font-weight:Bold;color:blue\">\n",
    "1.设计一个分数类，分数类有分子和分母两个属性，支持加减乘除及乘方运算，相应的运算可以用加减乘除号及乘方符号表示(注：计算结果需要化简到分数的最简形式，即分子与分母互质)。\n",
    "</div>"
   ]
  },
  {
   "cell_type": "code",
   "execution_count": null,
   "metadata": {},
   "outputs": [],
   "source": []
  }
 ],
 "metadata": {
  "kernelspec": {
   "display_name": "Python 3",
   "language": "python",
   "name": "python3"
  },
  "language_info": {
   "codemirror_mode": {
    "name": "ipython",
    "version": 3
   },
   "file_extension": ".py",
   "mimetype": "text/x-python",
   "name": "python",
   "nbconvert_exporter": "python",
   "pygments_lexer": "ipython3",
   "version": "3.7.3"
  }
 },
 "nbformat": 4,
 "nbformat_minor": 4
}
