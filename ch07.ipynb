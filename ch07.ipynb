{
 "cells": [
  {
   "cell_type": "markdown",
   "metadata": {},
   "source": [
    "<div align=\"right\" style=\"text-align:right;\">\n",
    "        <a href=\"https://metaquant.org/\">\n",
    "                <img style=\"width:400px;display:inline;\" width=\"400px\" src=\"https://images-1252829441.cos.ap-guangzhou.myqcloud.com/img/20200511155258.png\">\n",
    "        </a>\n",
    "</div>"
   ]
  },
  {
   "cell_type": "markdown",
   "metadata": {},
   "source": [
    "<div style=\"font-family:STKaiti;font-size:28px;font-weight:Bold;color:green;\">\n",
    "第七讲：函数(高级特性)\n",
    "</div>"
   ]
  },
  {
   "cell_type": "markdown",
   "metadata": {},
   "source": [
    "<div style=\"font-family:STKaiti;font-size:22px;line-height:2\">\n",
    "\n",
    "<ul>\n",
    "<li><p>高阶函数</p>\n",
    "</li>\n",
    "<li><p>匿名函数</p>\n",
    "</li>\n",
    "<li><p>内建高阶函数</p>\n",
    "<ul>\n",
    "<li>map函数</li>\n",
    "<li>filter函数</li>\n",
    "<li>reduce函数</li>\n",
    "\n",
    "</ul>\n",
    "</li>\n",
    "<li><p>推导式与生成器表达式</p>\n",
    "</li>\n",
    "<li><p>上节课练习讲解</p>\n",
    "</li>\n",
    "<li><p>本节课练习</p>\n",
    "</li>\n",
    "\n",
    "</ul>\n",
    "\n",
    "\n",
    "\n",
    "\n",
    "\n",
    "\n",
    "\n",
    "</div>"
   ]
  },
  {
   "cell_type": "markdown",
   "metadata": {},
   "source": [
    "<div style=\"font-family:STKaiti;font-size:26px;font-weight:Bold;color:black\">\n",
    "    <u> 一、高阶函数</u>\n",
    "</div>"
   ]
  },
  {
   "cell_type": "markdown",
   "metadata": {},
   "source": [
    "<div style=\"font-family:STKaiti;font-size:22px;line-height:2\">\n",
    "\n",
    "所谓高阶函数，是指以函数为参数的函数，或者说是函数的函数，高阶函数和复合函数本质上是一样的。比如我们有一个函数f(x)，还有一个函数g(x),我们可以构造一个函数f(g(x))，它就是一个复合函数。\n",
    "\n",
    "\n",
    "</div>"
   ]
  },
  {
   "cell_type": "code",
   "execution_count": null,
   "metadata": {},
   "outputs": [],
   "source": [
    "def sum_of_numbers(f,*numbers):\n",
    "    ans = 0\n",
    "    for num in numbers:\n",
    "        ans = ans + f(num)  # f是一个抽象函数\n",
    "    return ans"
   ]
  },
  {
   "cell_type": "code",
   "execution_count": null,
   "metadata": {},
   "outputs": [],
   "source": [
    "# 定义一个平方函数\n",
    "\n",
    "def square(number):\n",
    "    return number**2\n",
    "\n",
    "# 定义一个立方函数\n",
    "\n",
    "def cube(number):\n",
    "    return number**3\n",
    "\n",
    "# 定义一个倒数函数\n",
    "\n",
    "def reciprocal(number):\n",
    "    return 1/number"
   ]
  },
  {
   "cell_type": "code",
   "execution_count": null,
   "metadata": {},
   "outputs": [],
   "source": [
    "# 计算一至五的平方和\n",
    "\n",
    "print(sum_of_numbers(square,1,2,3,4,5))\n",
    "\n",
    "# 计算一至五的立方和\n",
    "\n",
    "print(sum_of_numbers(cube,1,2,3,4,5))\n",
    "\n",
    "# 计算一至五的平方和\n",
    "\n",
    "print(sum_of_numbers(reciprocal,1,2,3,4,5))"
   ]
  },
  {
   "cell_type": "markdown",
   "metadata": {},
   "source": [
    "<div style=\"font-family:STKaiti;font-size:26px;font-weight:Bold;color:black\">\n",
    "    <u> 二、匿名函数</u>\n",
    "</div>"
   ]
  },
  {
   "cell_type": "markdown",
   "metadata": {},
   "source": [
    "<div style=\"font-family:STKaiti;font-size:22px;line-height:2\">\n",
    "\n",
    "<p>在实际编程中，经常会遇到一个函数仅仅是作为高阶函数的参数而存在，我们并不需要单独使用这个函数。python语言中还有另外一种定义函数的方法，可以让我们可以定义一个函数同时不需要为函数命名，这就是匿名函数。</p>\n",
    "<p>定义匿名函数需要使用lambda关键字，它是希腊字母$\\lambda$的英文名称，是函数式编程领域常用的一个符号。lambda关键字的语法如下：lambda args: expression。</p>\n",
    "\n",
    "\n",
    "\n",
    "</div>"
   ]
  },
  {
   "cell_type": "code",
   "execution_count": null,
   "metadata": {},
   "outputs": [],
   "source": [
    "# 使用匿名函数计算平方和\n",
    "\n",
    "print(sum_of_numbers(lambda x:x**2,1,2,3,4,5))\n",
    "\n",
    "# 使用匿名函数计算立方和\n",
    "\n",
    "print(sum_of_numbers(lambda x:x**3,1,2,3,4,5))\n",
    "\n",
    "# 使用匿名函数计算平方和\n",
    "\n",
    "print(sum_of_numbers(lambda x:1/x,1,2,3,4,5))"
   ]
  },
  {
   "cell_type": "code",
   "execution_count": null,
   "metadata": {},
   "outputs": [],
   "source": [
    "# 将匿名函数赋值给一个变量\n",
    "\n",
    "add = lambda x,y : x + y\n",
    "\n",
    "# 使用变量名调用这个函数\n",
    "\n",
    "add(1,2)"
   ]
  },
  {
   "cell_type": "markdown",
   "metadata": {},
   "source": [
    "<div style=\"font-family:STKaiti;font-size:26px;font-weight:Bold;color:black\">\n",
    "    <u> 三、内建高阶函数</u>\n",
    "</div>"
   ]
  },
  {
   "cell_type": "markdown",
   "metadata": {},
   "source": [
    "<div style=\"font-family:STKaiti;font-size:22px;line-height:2\">\n",
    "\n",
    "python语言中也有一些内建的高阶函数，最常用的内建高阶函数有三个，分别是map, filter和reduce：\n",
    "\n",
    "\n",
    "</div>"
   ]
  },
  {
   "cell_type": "markdown",
   "metadata": {},
   "source": [
    "<div style=\"font-family:STKaiti;font-size:24px;font-weight:Bold;color:black\">\n",
    "(一)map函数\n",
    "</div>"
   ]
  },
  {
   "cell_type": "code",
   "execution_count": null,
   "metadata": {},
   "outputs": [],
   "source": [
    "numbers = [1,2,3,4,5]\n",
    "\n",
    "# 使用for语句将数字列表中的每个元素平方\n",
    "\n",
    "square_numbers = []\n",
    "\n",
    "for num in numbers:\n",
    "    square_numbers.append(num**2)\n",
    "    \n",
    "print(square_numbers)\n",
    "\n",
    "# 使用map函数将数字列表中的每个元素平方\n",
    "\n",
    "list(map(lambda x:x**2,numbers))  # map函数返回迭代器，可用list函数转化为列表"
   ]
  },
  {
   "cell_type": "markdown",
   "metadata": {},
   "source": [
    "<div style=\"font-family:STKaiti;font-size:22px;line-height:2\">\n",
    "\n",
    "<p>所谓编程范式是指一类典型的编程风格，常见的编程范式有函数式编程、过程式编程、面向对象编程等等。Python语言是一种多范式的编程语言。</p>\n",
    "<p>近些年来，函数式编程范式变得更加流行，使用函数式编程范式编写的代码通常更加的模块化，可读性更高，同时代码更好调试和测试，出现错误的可能性更小。</p>\n",
    "\n",
    "\n",
    "\n",
    "</div>"
   ]
  },
  {
   "cell_type": "markdown",
   "metadata": {},
   "source": [
    "<div style=\"font-family:STKaiti;font-size:24px;font-weight:Bold;color:black\">\n",
    "(二)filter函数\n",
    "</div>"
   ]
  },
  {
   "cell_type": "markdown",
   "metadata": {},
   "source": [
    "<div style=\"font-family:STKaiti;font-size:22px;line-height:2\">\n",
    "\n",
    "Filter函数可以用来对序列中的元素进行筛选，它的参数和map函数的参数是一样的，第一个参数是传入的函数，它用来定义筛选的条件，这个函数的返回值一般是一个布尔值。\n",
    "\n",
    "\n",
    "</div>"
   ]
  },
  {
   "cell_type": "code",
   "execution_count": null,
   "metadata": {},
   "outputs": [],
   "source": [
    "# 使用filter函数筛选出大于6小于20的所有奇数\n",
    "\n",
    "list(filter(lambda x:x%2==1 and 6<x<20,range(1,21)))"
   ]
  },
  {
   "cell_type": "markdown",
   "metadata": {},
   "source": [
    "<div style=\"font-family:STKaiti;font-size:24px;font-weight:Bold;color:black\">\n",
    "(三)reduce函数\n",
    "</div>"
   ]
  },
  {
   "cell_type": "markdown",
   "metadata": {},
   "source": [
    "<div style=\"font-family:STKaiti;font-size:22px;line-height:2\">\n",
    "\n",
    "<p>reduce函数和map及filter函数的区别：</p>\n",
    "<ul>\n",
    "<li>reduce函数返回单个值，而不是一个迭代器；</li>\n",
    "<li>从python3开始，reduce函数不再是内建函数，使用前需要从functools模块中导入；</li>\n",
    "<li>执行过程也不同，不是对序列中的每个元素逐个处理，而是首先从序列中取出前两个元素，将他们传入一个函数进行处理得到一个值，然后把这个值和序列中下一个元素一起传入函数再次进行处理，再得到一个值，如此依次循环执行下去，只到序列中的最后一个元素，然后返回最终的计算结果。</li>\n",
    "\n",
    "</ul>\n",
    "\n",
    "\n",
    "\n",
    "</div>"
   ]
  },
  {
   "cell_type": "code",
   "execution_count": null,
   "metadata": {},
   "outputs": [],
   "source": [
    "from functools import reduce  # 从functools模块中导入reduce函数\n",
    "\n",
    "add = lambda x,y : x + y\n",
    "\n",
    "reduce(add,[1,2,3])  # 相当于 add(add(1,2), 3)"
   ]
  },
  {
   "cell_type": "code",
   "execution_count": null,
   "metadata": {},
   "outputs": [],
   "source": [
    "# 使用reduce函数编写一个计算阶乘的函数\n",
    "\n",
    "def factorial(n):\n",
    "    multiply = lambda x,y : x * y\n",
    "    numbers = list(range(1,n+1))\n",
    "    return reduce(multiply,numbers)\n",
    "\n",
    "# 调用阶乘函数计算1至10十个数字的阶乘\n",
    "\n",
    "list(map(factorial,range(1,11)))"
   ]
  },
  {
   "cell_type": "markdown",
   "metadata": {},
   "source": [
    "<div style=\"font-family:STKaiti;font-size:26px;font-weight:Bold;color:black\">\n",
    "    <u> 四、推导式与生成器表达式</u>\n",
    "</div>"
   ]
  },
  {
   "cell_type": "markdown",
   "metadata": {},
   "source": [
    "<div style=\"font-family:STKaiti;font-size:24px;font-weight:Bold;color:black\">\n",
    "(一)列表推导式\n",
    "</div>"
   ]
  },
  {
   "cell_type": "markdown",
   "metadata": {},
   "source": [
    "<div style=\"font-family:STKaiti;font-size:22px;line-height:2\">\n",
    "\n",
    "列表推导式在本质上和我们之前介绍的map和filter函数是相同的，但是它的语法要更加优雅，可读性更好并且执行效率更高。\n",
    "\n",
    "\n",
    "</div>"
   ]
  },
  {
   "cell_type": "code",
   "execution_count": null,
   "metadata": {},
   "outputs": [],
   "source": [
    "# 使用列表推导式计算一到五五个数字的平方\n",
    "\n",
    "print([x**2 for x in range(1,6)])\n",
    "\n",
    "# 筛选结果列表中所有奇数平方数\n",
    "\n",
    "print([x**2 for x in range(1,6) if x%2==1])"
   ]
  },
  {
   "cell_type": "markdown",
   "metadata": {},
   "source": [
    "<div style=\"font-family:STKaiti;font-size:22px;line-height:2\">\n",
    "\n",
    "<p>python语言中列表推导式的一般形式为：</p>\n",
    "<pre><code class='language-python' lang='python'>[ expression for expr in sequence1\n",
    "             if condition1\n",
    "             for expr2 in sequence2\n",
    "             if condition2\n",
    "             for expr3 in sequence3 ...\n",
    "             if condition3\n",
    "             for exprN in sequenceN\n",
    "             if conditionN ]\n",
    "</code></pre>\n",
    "<p>&nbsp;</p>\n",
    "\n",
    "\n",
    "\n",
    "</div>"
   ]
  },
  {
   "cell_type": "code",
   "execution_count": null,
   "metadata": {},
   "outputs": [],
   "source": [
    "# 同时循环遍历两个序列\n",
    "\n",
    "[x+y for x in 'abc' for y in 'efg']"
   ]
  },
  {
   "cell_type": "markdown",
   "metadata": {},
   "source": [
    "<div style=\"font-family:STKaiti;font-size:24px;font-weight:Bold;color:black\">\n",
    "(二)生成器表达式\n",
    "</div>"
   ]
  },
  {
   "cell_type": "markdown",
   "metadata": {},
   "source": [
    "<div style=\"font-family:STKaiti;font-size:22px;line-height:2\">\n",
    "\n",
    "生成器表达式和列表推导式最大的区别是它不会一次性的产生所有元素并返回一个列表，而是根据需要来返回元素，从而可以避免浪费存储空间，也可以提高程序运行的效率。\n",
    "\n",
    "\n",
    "</div>"
   ]
  },
  {
   "cell_type": "code",
   "execution_count": null,
   "metadata": {},
   "outputs": [],
   "source": [
    "# 生成器表达式\n",
    "\n",
    "generator = (x for x in range(1,10001) if x%2==1)\n",
    "\n",
    "for i in generator:\n",
    "    if i < 20:\n",
    "        print(i)"
   ]
  },
  {
   "cell_type": "markdown",
   "metadata": {},
   "source": [
    "<div style=\"font-family:STKaiti;font-size:24px;font-weight:Bold;color:black\">\n",
    "(三)字典推导式\n",
    "</div>"
   ]
  },
  {
   "cell_type": "code",
   "execution_count": null,
   "metadata": {},
   "outputs": [],
   "source": [
    "square_numbers_dict = {x:x**2 for x in range(1,11)}\n",
    "\n",
    "print(square_numbers_dict)"
   ]
  },
  {
   "cell_type": "markdown",
   "metadata": {},
   "source": [
    "<div style=\"font-family:STKaiti;font-size:24px;font-weight:Bold;color:black\">\n",
    "(四)集合推导式\n",
    "</div>"
   ]
  },
  {
   "cell_type": "code",
   "execution_count": null,
   "metadata": {},
   "outputs": [],
   "source": [
    "square_numbers_set = {x**2 for x in range(-5,6)}\n",
    "\n",
    "print(square_numbers_set)"
   ]
  },
  {
   "cell_type": "markdown",
   "metadata": {},
   "source": [
    "<div style=\"font-family:STKaiti;font-size:26px;font-weight:Bold;color:black\">\n",
    "    <u> 五、上节课练习讲解</u>\n",
    "</div>"
   ]
  },
  {
   "cell_type": "markdown",
   "metadata": {},
   "source": [
    "<div style=\"font-family:STKaiti;font-size:22px;font-weight:Bold;color:blue\">\n",
    "1.定义一个函数，这个函数可以计算任意数量自然数的整数次方之和。\n",
    "</div>"
   ]
  },
  {
   "cell_type": "code",
   "execution_count": null,
   "metadata": {},
   "outputs": [],
   "source": [
    "def sum_of_powers(n,*numbers):\n",
    "    ans = 0\n",
    "    for num in numbers:\n",
    "        ans = ans + num**n\n",
    "    return ans\n",
    "\n",
    "# 调用函数\n",
    "\n",
    "print(sum_of_powers(2,1,2,3,4,5))\n",
    "\n",
    "print(sum_of_powers(3,1,2,3))"
   ]
  },
  {
   "cell_type": "markdown",
   "metadata": {},
   "source": [
    "<div style=\"font-family:STKaiti;font-size:22px;font-weight:Bold;color:blue\">\n",
    "2.定义一个函数，这个函数可以判断给定的自然数是否是一个质数，如果是则返回True,如果不是则返回False，利用这个函数列出100以内的所有质数。\n",
    "</div>"
   ]
  },
  {
   "cell_type": "code",
   "execution_count": null,
   "metadata": {},
   "outputs": [],
   "source": [
    "# 定义一个判断是否是质数的函数\n",
    "\n",
    "def isprime(number):\n",
    "    if number == 1:\n",
    "        return False\n",
    "    elif number == 2:\n",
    "        return True\n",
    "    elif number > 2 and number % 2 == 0:\n",
    "        return False\n",
    "    else:\n",
    "        i = 2\n",
    "        while i**2 <= number:\n",
    "            if number % i == 0:\n",
    "                return False\n",
    "            i = i + 1\n",
    "        else:\n",
    "            return True"
   ]
  },
  {
   "cell_type": "code",
   "execution_count": null,
   "metadata": {},
   "outputs": [],
   "source": [
    "# 第一种方法：使用循环列举100以内的质数\n",
    "\n",
    "numbers = list(range(1,100))\n",
    "\n",
    "prime_numbers = []\n",
    "\n",
    "for num in numbers:\n",
    "    if isprime(num):\n",
    "        prime_numbers.append(num)\n",
    "\n",
    "print(prime_numbers)"
   ]
  },
  {
   "cell_type": "code",
   "execution_count": null,
   "metadata": {},
   "outputs": [],
   "source": [
    "# 第二种方法：使用filter函数筛选100以内的质数\n",
    "\n",
    "list(filter(isprime,numbers))"
   ]
  },
  {
   "cell_type": "code",
   "execution_count": null,
   "metadata": {},
   "outputs": [],
   "source": [
    "# 第三种方法：使用列表推导式筛选100以内的质数\n",
    "\n",
    "[x for x in numbers if isprime(x)]"
   ]
  },
  {
   "cell_type": "markdown",
   "metadata": {},
   "source": [
    "<div style=\"font-family:STKaiti;font-size:26px;font-weight:Bold;color:black\">\n",
    "    <u> 六、本节课练习</u>\n",
    "</div>"
   ]
  },
  {
   "cell_type": "markdown",
   "metadata": {},
   "source": [
    "<div style=\"font-family:STKaiti;font-size:22px;font-weight:Bold;color:blue\">\n",
    "1.如果我们将小于10的所有是3或5倍数的自然数列出来，我们得到3，5，6和9，它们的和是23。与之类似，计算1000以下所有是3或5的倍数的自然数的和。\n",
    "</div>"
   ]
  },
  {
   "cell_type": "code",
   "execution_count": null,
   "metadata": {},
   "outputs": [],
   "source": []
  },
  {
   "cell_type": "markdown",
   "metadata": {},
   "source": [
    "<div style=\"font-family:STKaiti;font-size:22px;font-weight:Bold;color:blue\">\n",
    "2. $2^{15}=32768$且各位数之和为$3+2+7+6+8=26$，求$2^{1000}$各个位数之和。\n",
    "</div>"
   ]
  },
  {
   "cell_type": "code",
   "execution_count": null,
   "metadata": {},
   "outputs": [],
   "source": []
  },
  {
   "cell_type": "markdown",
   "metadata": {},
   "source": [
    "<div style=\"font-family:STKaiti;font-size:22px;font-weight:Bold;color:blue\">\n",
    "3. 斐波那契序列中的数都是由前两项加总得出，假设第一与第二项为1与2，则前十项分别为：\n",
    "$$\n",
    "1，2，3，5，8，13，21，34，55，89\n",
    "$$\n",
    "考虑不超过一千的斐波那契数，计算其中偶数斐波那契数的和。\n",
    "</div>"
   ]
  },
  {
   "cell_type": "code",
   "execution_count": null,
   "metadata": {},
   "outputs": [],
   "source": []
  }
 ],
 "metadata": {
  "kernelspec": {
   "display_name": "Python 3",
   "language": "python",
   "name": "python3"
  },
  "language_info": {
   "codemirror_mode": {
    "name": "ipython",
    "version": 3
   },
   "file_extension": ".py",
   "mimetype": "text/x-python",
   "name": "python",
   "nbconvert_exporter": "python",
   "pygments_lexer": "ipython3",
   "version": "3.7.6"
  }
 },
 "nbformat": 4,
 "nbformat_minor": 4
}
