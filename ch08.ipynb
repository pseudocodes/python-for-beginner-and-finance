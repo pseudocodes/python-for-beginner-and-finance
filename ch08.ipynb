{
 "cells": [
  {
   "cell_type": "markdown",
   "metadata": {},
   "source": [
    "<div align=\"right\" style=\"text-align:right;\">\n",
    "        <a href=\"https://metaquant.org/\">\n",
    "                <img style=\"width:400px;display:inline;\" width=\"400px\" src=\"https://images-1252829441.cos.ap-guangzhou.myqcloud.com/img/20200511155258.png\">\n",
    "        </a>\n",
    "</div>"
   ]
  },
  {
   "cell_type": "markdown",
   "metadata": {},
   "source": [
    "<div style=\"font-family:STKaiti;font-size:28px;font-weight:Bold;color:green;\">\n",
    "第八讲：类(基础知识)\n",
    "</div>"
   ]
  },
  {
   "cell_type": "markdown",
   "metadata": {},
   "source": [
    "<div style=\"font-family:STKaiti;font-size:22px;line-height:2\">\n",
    "\n",
    "<ul>\n",
    "<li><p>面向对象编程</p>\n",
    "</li>\n",
    "<li><p>类与实例</p>\n",
    "</li>\n",
    "<li><p>属性与方法</p>\n",
    "<ul>\n",
    "<li>属性</li>\n",
    "<li>方法</li>\n",
    "\n",
    "</ul>\n",
    "</li>\n",
    "<li><p>示例：Vector类</p>\n",
    "</li>\n",
    "<li><p>上节课练习讲解</p>\n",
    "</li>\n",
    "<li><p>本节课练习</p>\n",
    "</li>\n",
    "\n",
    "</ul>\n",
    "\n",
    "\n",
    "\n",
    "\n",
    "\n",
    "\n",
    "\n",
    "\n",
    "</div>"
   ]
  },
  {
   "cell_type": "markdown",
   "metadata": {},
   "source": [
    "<div style=\"font-family:STKaiti;font-size:26px;font-weight:Bold;color:black\">\n",
    "    <u> 一、面向对象编程</u>\n",
    "</div>"
   ]
  },
  {
   "cell_type": "markdown",
   "metadata": {},
   "source": [
    "<div style=\"font-family:STKaiti;font-size:22px;line-height:2\">\n",
    "\n",
    "<p>面向对象编程的对应的英文是Object Oriented Programming，所以也简称OOP，它在本质上是一种程序设计的思想。</p>\n",
    "<p>在传统的面向过程的程序设计思想中，我们会把程序看作是一系列按顺序执行的命令，通过这种按顺序执行的命令来解决现实世界的问题。对于面向过程编程，程序的核心是某些行为，先做什么，再做什么，最后做什么，程序中的数据和对数据的操作是相分离的。</p>\n",
    "<p>与之相反，在面向对象编程中，程序中的数据和对数据的操作是紧密联系在一起的，数据和对数据的操作被绑定在一起形成一个对象，对象是面向对象设计的核心。</p>\n",
    "<p>在python中除开使用默认的数据结构以外，我们还可以使用面向对象编程的方式，自己来创造新的数据结构。</p>\n",
    "\n",
    "\n",
    "\n",
    "</div>"
   ]
  },
  {
   "cell_type": "markdown",
   "metadata": {},
   "source": [
    "<div style=\"font-family:STKaiti;font-size:26px;font-weight:Bold;color:black\">\n",
    "    <u> 二、类与实例</u>\n",
    "</div>"
   ]
  },
  {
   "cell_type": "markdown",
   "metadata": {},
   "source": [
    "<div style=\"font-family:STKaiti;font-size:22px;line-height:2\">\n",
    "\n",
    "<p>类是抽象模板，而实例是模板的具体实现，两者之间的关系有点类似于做饼干的模子与实际做出来的饼干的关系。类定义了实例的共同特征，但是同一个类的实例之间会有所差别。</p>\n",
    "<p>在python语言中，可以使用type函数查看数据的类型。</p>\n",
    "\n",
    "\n",
    "\n",
    "\n",
    "</div>"
   ]
  },
  {
   "cell_type": "code",
   "execution_count": null,
   "metadata": {},
   "outputs": [],
   "source": [
    "my_integer = 1145\n",
    "\n",
    "print(type(my_integer))\n",
    "\n",
    "my_string = 'abcde'\n",
    "\n",
    "print(type(my_string))\n",
    "\n",
    "my_list = [1,2,3]\n",
    "\n",
    "print(type(my_list))\n",
    "\n",
    "my_tuple = (4,5,6)\n",
    "\n",
    "print(type(my_tuple))\n",
    "\n",
    "my_dict = {1:1,2:4,3:9}\n",
    "\n",
    "print(type(my_dict))\n",
    "\n",
    "my_set = {1,3,5,7}\n",
    "\n",
    "print(type(my_set))"
   ]
  },
  {
   "cell_type": "markdown",
   "metadata": {},
   "source": [
    "<div style=\"font-family:STKaiti;font-size:22px;line-height:2\">\n",
    "\n",
    "使用class关键字定义类：\n",
    "    \n",
    "</div>"
   ]
  },
  {
   "cell_type": "markdown",
   "metadata": {},
   "source": [
    "<img src=\"https://images-1252829441.cos.ap-guangzhou.myqcloud.com/img/20200629091129.png\"/>"
   ]
  },
  {
   "cell_type": "code",
   "execution_count": null,
   "metadata": {},
   "outputs": [],
   "source": [
    "class SampleClass(object):\n",
    "    pass\n",
    "\n",
    "instance = SampleClass()\n",
    "\n",
    "print(type(instance))\n",
    "\n",
    "print(isinstance(instance,SampleClass))"
   ]
  },
  {
   "cell_type": "code",
   "execution_count": null,
   "metadata": {},
   "outputs": [],
   "source": [
    "class SampleClass:\n",
    "    pass"
   ]
  },
  {
   "cell_type": "markdown",
   "metadata": {},
   "source": [
    "<div style=\"font-family:STKaiti;font-size:26px;font-weight:Bold;color:black\">\n",
    "    <u> 三、属性与方法</u>\n",
    "</div>"
   ]
  },
  {
   "cell_type": "markdown",
   "metadata": {},
   "source": [
    "<div style=\"font-family:STKaiti;font-size:22px;line-height:2\">\n",
    "\n",
    "在python中，我们把对象中的数据称为属性，把对数据的操作称为方法，一个类通常包括若干个属性和方法。\n",
    "\n",
    "\n",
    "</div>"
   ]
  },
  {
   "cell_type": "markdown",
   "metadata": {},
   "source": [
    "<div style=\"font-family:STKaiti;font-size:24px;font-weight:Bold;color:black\">\n",
    "(一)属性\n",
    "</div>"
   ]
  },
  {
   "cell_type": "markdown",
   "metadata": {},
   "source": [
    "<div style=\"font-family:STKaiti;font-size:22px;line-height:2\">\n",
    "\n",
    "类属性是在创建类的时候定义的，而实例属性是在创建实例的时候定义的，两者之间最大的区别是，类属性可以被所有对应的实例共享，而实例属性只属于实例本身。\n",
    "\n",
    "\n",
    "\n",
    "</div>"
   ]
  },
  {
   "cell_type": "markdown",
   "metadata": {},
   "source": [
    "<div style=\"font-family:STKaiti;font-size:22px;font-weight:Bold;color:blue\">\n",
    "1.类属性\n",
    "</div>"
   ]
  },
  {
   "cell_type": "code",
   "execution_count": null,
   "metadata": {},
   "outputs": [],
   "source": [
    "class Student:\n",
    "    city = 'Beijing'\n",
    "    grade = 'high school'\n",
    "    language = 'Chinese'"
   ]
  },
  {
   "cell_type": "code",
   "execution_count": null,
   "metadata": {},
   "outputs": [],
   "source": [
    "print(Student.city,Student.grade,Student.language)"
   ]
  },
  {
   "cell_type": "code",
   "execution_count": null,
   "metadata": {},
   "outputs": [],
   "source": [
    "jim = Student()\n",
    "\n",
    "print(jim.city)\n",
    "\n",
    "kite = Student()\n",
    "\n",
    "print(kite.city)"
   ]
  },
  {
   "cell_type": "code",
   "execution_count": null,
   "metadata": {},
   "outputs": [],
   "source": [
    "dir(Student)  # 使用dir函数查看Student类的属性与方法"
   ]
  },
  {
   "cell_type": "markdown",
   "metadata": {},
   "source": [
    "<div style=\"font-family:STKaiti;font-size:22px;font-weight:Bold;color:blue\">\n",
    "2.实例属性\n",
    "</div>"
   ]
  },
  {
   "cell_type": "code",
   "execution_count": null,
   "metadata": {},
   "outputs": [],
   "source": [
    "class Student:\n",
    "    city = 'Beijing'\n",
    "    grade = 'high school'\n",
    "    language = 'Chinese'\n",
    "    \n",
    "    def __init__(self,name,age,gender):\n",
    "        self.name = name\n",
    "        self.age = age\n",
    "        self.gender = gender"
   ]
  },
  {
   "cell_type": "code",
   "execution_count": null,
   "metadata": {},
   "outputs": [],
   "source": [
    "jim = Student('jim',21,'male')\n",
    "\n",
    "print(jim.name)\n",
    "\n",
    "print(jim.age)\n",
    "\n",
    "print(jim.gender)"
   ]
  },
  {
   "cell_type": "code",
   "execution_count": null,
   "metadata": {},
   "outputs": [],
   "source": [
    "kite = Student('kite',18,'female')\n",
    "\n",
    "print(kite.name)\n",
    "\n",
    "print(kite.age)\n",
    "\n",
    "print(kite.gender)"
   ]
  },
  {
   "cell_type": "markdown",
   "metadata": {},
   "source": [
    "<div style=\"font-family:STKaiti;font-size:24px;font-weight:Bold;color:black\">\n",
    "(二)方法\n",
    "</div>"
   ]
  },
  {
   "cell_type": "markdown",
   "metadata": {},
   "source": [
    "<div style=\"font-family:STKaiti;font-size:22px;line-height:2\">\n",
    "\n",
    "一个类会把数据和对数据的操作绑定在一起，数据就对应属性，而对数据的操作就对应类的方法。\n",
    "\n",
    "\n",
    "</div>"
   ]
  },
  {
   "cell_type": "code",
   "execution_count": null,
   "metadata": {},
   "outputs": [],
   "source": [
    "class Student:    \n",
    "    def __init__(self,name,age,gender):\n",
    "        self.name = name\n",
    "        self.age = age\n",
    "        self.gender = gender\n",
    "    \n",
    "    def say_name(self):\n",
    "        print('my name is',self.name)\n",
    "    \n",
    "    def get_birthyear(self,current_year):\n",
    "        birthyear = current_year - self.age\n",
    "        return birthyear"
   ]
  },
  {
   "cell_type": "code",
   "execution_count": null,
   "metadata": {},
   "outputs": [],
   "source": [
    "jim = Student('jim',21,'male')\n",
    "\n",
    "jim.say_name()\n",
    "\n",
    "jim.get_birthyear(2020)"
   ]
  },
  {
   "cell_type": "markdown",
   "metadata": {},
   "source": [
    "<div style=\"font-family:STKaiti;font-size:26px;font-weight:Bold;color:black\">\n",
    "    <u> 四、示例：Vector类</u>\n",
    "</div>"
   ]
  },
  {
   "cell_type": "code",
   "execution_count": null,
   "metadata": {},
   "outputs": [],
   "source": [
    "from math import acos,degrees\n",
    "\n",
    "class Vector(object):\n",
    "    def __init__(self,x,y):\n",
    "        self.x = x\n",
    "        self.y = y\n",
    "        self.size = (x**2 + y**2)**0.5\n",
    "    \n",
    "    def __repr__(self):\n",
    "        return \"vector(%.2f,%.2f)\" % (self.x,self.y)\n",
    "    \n",
    "    def add(self,vec):\n",
    "        x = self.x + vec.x\n",
    "        y = self.y + vec.y\n",
    "        return Vector(x,y)\n",
    "    \n",
    "    def sub(self,vec):\n",
    "        x = self.x - vec.x\n",
    "        y = self.y - vec.y\n",
    "        return Vector(x,y)\n",
    "    \n",
    "    def number_product(self,number):\n",
    "        x = self.x * number\n",
    "        y = self.y * number\n",
    "        return Vector(x,y)\n",
    "\n",
    "    def dot_product(self,vec):\n",
    "        ans = self.x * vec.x + self.y * vec.y\n",
    "        return ans\n",
    "    \n",
    "    def vectors_angle(self,vec):\n",
    "        radians = acos(self.dot_product(vec)/(self.size*vec.size))\n",
    "        return degrees(radians)"
   ]
  },
  {
   "cell_type": "code",
   "execution_count": null,
   "metadata": {},
   "outputs": [],
   "source": [
    "# 计算向量的大小\n",
    "\n",
    "v = Vector(3,4)\n",
    "\n",
    "v.size"
   ]
  },
  {
   "cell_type": "code",
   "execution_count": null,
   "metadata": {},
   "outputs": [],
   "source": [
    "# __repr__方法可以规定类的实例的显示和打印形式\n",
    "\n",
    "print(v)"
   ]
  },
  {
   "cell_type": "code",
   "execution_count": null,
   "metadata": {},
   "outputs": [],
   "source": [
    "# add方法可以计算向量的和\n",
    "\n",
    "u = Vector(1,0)\n",
    "\n",
    "v.add(u)"
   ]
  },
  {
   "cell_type": "code",
   "execution_count": null,
   "metadata": {},
   "outputs": [],
   "source": [
    "# sub方法可以计算向量的差\n",
    "\n",
    "v.sub(u)"
   ]
  },
  {
   "cell_type": "code",
   "execution_count": null,
   "metadata": {},
   "outputs": [],
   "source": [
    "# number_product方法计算向量的数乘\n",
    "\n",
    "number = 3\n",
    "\n",
    "v.number_product(number)"
   ]
  },
  {
   "cell_type": "code",
   "execution_count": null,
   "metadata": {},
   "outputs": [],
   "source": [
    "# dot_product方法计算向量的点积\n",
    "\n",
    "v.dot_product(u)"
   ]
  },
  {
   "cell_type": "markdown",
   "metadata": {},
   "source": [
    "<div style=\"font-family:STKaiti;font-size:22px;line-height:2\">\n",
    "\n",
    "对于向量$\\vec{a}$和$\\vec{b}$，两者之间的夹角的余弦等于两个向量的数量积除以两个向量的大小的乘积，即：\n",
    "$$\n",
    "{\\displaystyle \\cos \\theta ={\\frac {{\\vec {a}}\\cdot {\\vec {b}}}{\\left\\|{\\vec {a}}\\right\\|\\left\\|{\\vec {b}}\\right\\|}}}\n",
    "$$\n",
    "所以两个向量的夹角应该等于：\n",
    "$$\n",
    "\\theta =\\arccos \\left( \\frac{\\vec{a}\\cdot \\vec{b}}{||\\vec{a}||\\cdot ||\\vec{b}||} \\right) \n",
    "$$\n",
    "\n",
    "\n",
    "\n",
    "</div>"
   ]
  },
  {
   "cell_type": "code",
   "execution_count": null,
   "metadata": {},
   "outputs": [],
   "source": [
    "# vectors_angle方法计算向量之间的夹角\n",
    "\n",
    "v.vectors_angle(u)"
   ]
  },
  {
   "cell_type": "markdown",
   "metadata": {},
   "source": [
    "<div style=\"font-family:STKaiti;font-size:22px;line-height:2\">\n",
    "\n",
    "当定义好数据结构后，我们就可以和使用整数、字符串这样的基本数据类型一样使用这些自定义的数据结构，不用关注这些数据结构的内部实现细节,数据结构的内部细节被我们隐藏了起来，这种特性我们称之为封装性。它是面向对象编程的三大特性中的第一个，另外两个特性分别是继承性与多态性。\n",
    "\n",
    "\n",
    "</div>"
   ]
  },
  {
   "cell_type": "markdown",
   "metadata": {},
   "source": [
    "<div style=\"font-family:STKaiti;font-size:26px;font-weight:Bold;color:black\">\n",
    "    <u> 五、上节课练习讲解</u>\n",
    "</div>"
   ]
  },
  {
   "cell_type": "markdown",
   "metadata": {},
   "source": [
    "<div style=\"font-family:STKaiti;font-size:22px;font-weight:Bold;color:blue\">\n",
    "1.如果我们将小于10的所有是3或5倍数的自然数列出来，我们得到3，5，6和9，它们的和是23。与之类似，计算1000以下所有是3或5的倍数的自然数的和。\n",
    "</div>"
   ]
  },
  {
   "cell_type": "code",
   "execution_count": null,
   "metadata": {},
   "outputs": [],
   "source": [
    "sum([x for x in range(3,1000) if x%3==0 or x%5==0])"
   ]
  },
  {
   "cell_type": "markdown",
   "metadata": {},
   "source": [
    "<div style=\"font-family:STKaiti;font-size:22px;font-weight:Bold;color:blue\">\n",
    "2. $2^{15}=32768$且各位数之和为$3+2+7+6+8=26$，求$2^{1000}$各个位数之和。\n",
    "</div>"
   ]
  },
  {
   "cell_type": "code",
   "execution_count": null,
   "metadata": {},
   "outputs": [],
   "source": [
    "print([int(x) for x in str(32768)])\n",
    "\n",
    "sum([int(x) for x in str(2**1000)])"
   ]
  },
  {
   "cell_type": "markdown",
   "metadata": {},
   "source": [
    "<div style=\"font-family:STKaiti;font-size:22px;font-weight:Bold;color:blue\">\n",
    "3. 斐波那契序列中的数都是由前两项加总得出，假设第一与第二项为1与2，则前十项分别为：\n",
    "$$\n",
    "1，2，3，5，8，13，21，34，55，89\n",
    "$$\n",
    "考虑不超过一千的斐波那契数，计算其中偶数斐波那契数的和。\n",
    "</div>"
   ]
  },
  {
   "cell_type": "code",
   "execution_count": null,
   "metadata": {},
   "outputs": [],
   "source": [
    "def fibonacci_numbers(N):\n",
    "    fib = [1,2]\n",
    "    while fib[-1] < N:\n",
    "        fib.append(fib[-1]+fib[-2])\n",
    "    return fib[:-1]\n",
    "\n",
    "sum([x for x in fibonacci_numbers(1000) if x%2==0])"
   ]
  },
  {
   "cell_type": "markdown",
   "metadata": {},
   "source": [
    "<div style=\"font-family:STKaiti;font-size:26px;font-weight:Bold;color:black\">\n",
    "    <u> 六、本节课练习</u>\n",
    "</div>"
   ]
  },
  {
   "cell_type": "markdown",
   "metadata": {},
   "source": [
    "<div style=\"font-family:STKaiti;font-size:22px;font-weight:Bold;color:blue\">\n",
    "1.对Vector类进行修改，使得它可以对三维及以上维度的向量进行计算(注：无需设计计算向量夹角的方法)。\n",
    "</div>"
   ]
  },
  {
   "cell_type": "code",
   "execution_count": null,
   "metadata": {},
   "outputs": [],
   "source": []
  },
  {
   "cell_type": "markdown",
   "metadata": {},
   "source": [
    "<div style=\"font-family:STKaiti;font-size:22px;font-weight:Bold;color:blue\">\n",
    "2. 设计一个日期Date类，它有年、月、日三个属性，并有以下三个方法：\n",
    "\n",
    "- 当打印Date类时，能以\"1999/2/14\"这样的形式显示；\n",
    "- 返回当前日期在第几个季度；\n",
    "- 判断当前日期所在年份是闰年还是平年。\n",
    "</div>"
   ]
  },
  {
   "cell_type": "code",
   "execution_count": null,
   "metadata": {},
   "outputs": [],
   "source": []
  }
 ],
 "metadata": {
  "kernelspec": {
   "display_name": "Python 3",
   "language": "python",
   "name": "python3"
  },
  "language_info": {
   "codemirror_mode": {
    "name": "ipython",
    "version": 3
   },
   "file_extension": ".py",
   "mimetype": "text/x-python",
   "name": "python",
   "nbconvert_exporter": "python",
   "pygments_lexer": "ipython3",
   "version": "3.7.6"
  }
 },
 "nbformat": 4,
 "nbformat_minor": 4
}
