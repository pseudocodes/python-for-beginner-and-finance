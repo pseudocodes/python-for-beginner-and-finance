{
 "cells": [
  {
   "cell_type": "markdown",
   "metadata": {},
   "source": [
    "<div align=\"right\" style=\"text-align:right;\">\n",
    "        <a href=\"https://metaquant.org/\">\n",
    "                <img style=\"width:400px;display:inline;\" width=\"400px\" src=\"https://images-1252829441.cos.ap-guangzhou.myqcloud.com/img/20200511155258.png\">\n",
    "        </a>\n",
    "</div>"
   ]
  },
  {
   "cell_type": "markdown",
   "metadata": {},
   "source": [
    "<div style=\"font-family:STKaiti;font-size:28px;font-weight:Bold;color:green;\">\n",
    "第四讲：字典与集合\n",
    "</div>"
   ]
  },
  {
   "cell_type": "markdown",
   "metadata": {},
   "source": [
    "<div style=\"font-family:STKaiti;font-size:22px;line-height:2\">\n",
    "\n",
    "<ul>\n",
    "<li><p>字典</p>\n",
    "<ul>\n",
    "<li>创建字典</li>\n",
    "<li>基本字典操作</li>\n",
    "<li>字典方法</li>\n",
    "\n",
    "</ul>\n",
    "</li>\n",
    "<li><p>集合</p>\n",
    "<ul>\n",
    "<li>创建集合</li>\n",
    "<li>基本集合操作</li>\n",
    "<li>集合运算</li>\n",
    "<li>集合方法</li>\n",
    "\n",
    "</ul>\n",
    "</li>\n",
    "<li><p>上节课练习讲解</p>\n",
    "</li>\n",
    "<li><p>本节练习</p>\n",
    "</li>\n",
    "\n",
    "</ul>\n",
    "\n",
    "\n",
    "\n",
    "\n",
    "\n",
    "</div>"
   ]
  },
  {
   "cell_type": "markdown",
   "metadata": {},
   "source": [
    "<div style=\"font-family:STKaiti;font-size:26px;font-weight:Bold;color:black\">\n",
    "    <u> 一、字典</u>\n",
    "</div>"
   ]
  },
  {
   "cell_type": "markdown",
   "metadata": {},
   "source": [
    "<div style=\"font-family:STKaiti;font-size:24px;font-weight:Bold;color:black\">\n",
    "(一)创建字典\n",
    "</div>"
   ]
  },
  {
   "cell_type": "markdown",
   "metadata": {},
   "source": [
    "<div style=\"font-family:STKaiti;font-size:22px;line-height:2\">\n",
    "字典是由一个及以上的多个键值对组成的，键和值之间用冒号隔开，而各个键值对之间用英文逗号隔开，而整个字典则由一对大括号括起来。\n",
    "\n",
    "</div>"
   ]
  },
  {
   "cell_type": "code",
   "execution_count": null,
   "metadata": {},
   "outputs": [],
   "source": [
    "phonebook = {'Jim':1231,'Bob':8547,'Kite':4586,'Lucy':5662}  # 姓名是键，电话是值\n",
    "\n",
    "empty_dict = {}  # 创建一个空字典"
   ]
  },
  {
   "cell_type": "code",
   "execution_count": null,
   "metadata": {},
   "outputs": [],
   "source": [
    "# 使用dict函数将键值对构成的序列转化成字典\n",
    "\n",
    "info = [('name','jim'),('age',23),('gender','male')]\n",
    "\n",
    "info_dict1 = dict(info)\n",
    "\n",
    "print(info_dict1)\n",
    "\n",
    "# 使用关键字参数创建字典\n",
    "\n",
    "info_dict2 = dict(name = 'jim', age = 23, gender = 'male')\n",
    "\n",
    "print(info_dict2)"
   ]
  },
  {
   "cell_type": "markdown",
   "metadata": {},
   "source": [
    "<div style=\"font-family:STKaiti;font-size:22px;line-height:2\">\n",
    "在创建字典时，关于字典的键有两点需要注意：一是字典的键不能重复，否则会导致之前的键对应的值被之后的键对应的值覆盖；二是字典的键必须是不可变的数据类型，不能是可变数据类型，也就是字典的键可以是数字、字符串或者元组，但是不能是列表。\n",
    "\n",
    "</div>"
   ]
  },
  {
   "cell_type": "code",
   "execution_count": null,
   "metadata": {},
   "outputs": [],
   "source": [
    "# 字典的键名不能重复\n",
    "\n",
    "d = {'name':'Jim','age':23,'name':'Bruce'}\n",
    "\n",
    "print(d)"
   ]
  },
  {
   "cell_type": "code",
   "execution_count": null,
   "metadata": {},
   "outputs": [],
   "source": [
    "# 字典的键必须是不可变的数据类型\n",
    "\n",
    "dict_number = {1:1,2:4,3:9}  # 数字作为键\n",
    "\n",
    "print(dict_number)\n",
    "\n",
    "dict_string = {'name':'Bob','gender':'male'}\n",
    "\n",
    "print(dict_string)\n",
    "\n",
    "dict_tuple = {('male',23):'Jim',('female',25):'Kite'}\n",
    "\n",
    "print(dict_tuple)\n",
    "\n",
    "dict_list = {['male',23]:'Jim',['female',25]:'Kite'}\n",
    "\n",
    "print(dict_tuple)"
   ]
  },
  {
   "cell_type": "markdown",
   "metadata": {},
   "source": [
    "<div style=\"font-family:STKaiti;font-size:24px;font-weight:Bold;color:black\">\n",
    "(二)常用字典操作\n",
    "</div>"
   ]
  },
  {
   "cell_type": "code",
   "execution_count": null,
   "metadata": {},
   "outputs": [],
   "source": [
    "# 使用len函数计算字典中项的数量\n",
    "\n",
    "len(info_dict1)"
   ]
  },
  {
   "cell_type": "code",
   "execution_count": null,
   "metadata": {},
   "outputs": [],
   "source": [
    "# 通过键名访问字典中的值\n",
    "\n",
    "print(info_dict1['name'],info_dict1['age'],info_dict1['gender'])"
   ]
  },
  {
   "cell_type": "code",
   "execution_count": null,
   "metadata": {},
   "outputs": [],
   "source": [
    "# 通过键名修改字典中的值\n",
    "\n",
    "info_dict2['age'] = 35\n",
    "\n",
    "print(info_dict2)"
   ]
  },
  {
   "cell_type": "code",
   "execution_count": null,
   "metadata": {},
   "outputs": [],
   "source": [
    "# 使用del命名删除字典或者删除字典中的一项\n",
    "\n",
    "info_dict1 = dict(info)\n",
    "\n",
    "del info_dict1['gender']  # 删除宝典中的一项\n",
    "\n",
    "print(info_dict1)\n",
    "\n",
    "print(info_dict1['gender'])"
   ]
  },
  {
   "cell_type": "code",
   "execution_count": null,
   "metadata": {},
   "outputs": [],
   "source": [
    "del info_dict1  # 删除整个字典\n",
    "\n",
    "print(info_dict1)"
   ]
  },
  {
   "cell_type": "code",
   "execution_count": null,
   "metadata": {},
   "outputs": [],
   "source": [
    "# 字典的成员运算检查字典中是否包含特定的键，而不是特定的值\n",
    "\n",
    "phonebook = {'Jim':1231,'Bob':8547,'Kite':4586,'Lucy':5662} \n",
    "\n",
    "print('Jim' in phonebook)  # 检查字典中是否包含特定的键\n",
    "\n",
    "print(1231 in phonebook)  # 不能检查字典中是否包含特定的值"
   ]
  },
  {
   "cell_type": "code",
   "execution_count": null,
   "metadata": {},
   "outputs": [],
   "source": [
    "# 使用字典进行字符串的格式化\n",
    "\n",
    "personal_information = {'name':'Will','age':31,'nationality':'New Zealand','weight':75.36}\n",
    "\n",
    "string = '%(name)s is from %(nationality)s, he is %(age)d years old and his weight is %(weight).1f kg.'\n",
    "\n",
    "print(string % personal_information)"
   ]
  },
  {
   "cell_type": "markdown",
   "metadata": {},
   "source": [
    "<div style=\"font-family:STKaiti;font-size:24px;font-weight:Bold;color:black\">\n",
    "(三)常用字典方法\n",
    "</div>"
   ]
  },
  {
   "cell_type": "markdown",
   "metadata": {},
   "source": [
    "<div style=\"font-family:STKaiti;font-size:22px;font-weight:Bold;color:blue\">\n",
    "1.fromkeys方法\n",
    "</div>"
   ]
  },
  {
   "cell_type": "code",
   "execution_count": null,
   "metadata": {},
   "outputs": [],
   "source": [
    "# fromkeys(iterable, value=None)方法可使用给定的键创建一个新的字典\n",
    "\n",
    "key_string = 'abcd'\n",
    "\n",
    "print(dict.fromkeys(key_string,0))  # 以字符串为键，且设定默认键值为0\n",
    "\n",
    "key_list = [1,2,3,4,5]\n",
    "\n",
    "print(dict.fromkeys(key_list))  # 以列表为键\n",
    "\n",
    "key_tuple = ('name','age','nationality','weight')\n",
    "\n",
    "print(dict.fromkeys(key_tuple))  # 以元组为键"
   ]
  },
  {
   "cell_type": "markdown",
   "metadata": {},
   "source": [
    "<div style=\"font-family:STKaiti;font-size:22px;font-weight:Bold;color:blue\">\n",
    "2.get方法\n",
    "</div>"
   ]
  },
  {
   "cell_type": "code",
   "execution_count": null,
   "metadata": {},
   "outputs": [],
   "source": [
    "# dict.get(key, default=None)方法用于返回字典中指定键对应的值\n",
    "\n",
    "personal_information = {'name':'Will','age':31,'nationality':'New Zealand','weight':75.36}\n",
    "\n",
    "print(personal_information.get('name'))\n",
    "\n",
    "print(personal_information.get('gender','N/A'))"
   ]
  },
  {
   "cell_type": "markdown",
   "metadata": {},
   "source": [
    "<div style=\"font-family:STKaiti;font-size:22px;font-weight:Bold;color:blue\">\n",
    "3.setdefault方法\n",
    "</div>"
   ]
  },
  {
   "cell_type": "code",
   "execution_count": null,
   "metadata": {},
   "outputs": [],
   "source": [
    "# setdefault(key, default=None)方法与get方法类似, 区别在于如果键不在字典中，则会添加键并设为默认值\n",
    "\n",
    "print(personal_information.setdefault('gender','N/A'))\n",
    "\n",
    "print(personal_information)"
   ]
  },
  {
   "cell_type": "markdown",
   "metadata": {},
   "source": [
    "<div style=\"font-family:STKaiti;font-size:22px;font-weight:Bold;color:blue\">\n",
    "4.items方法\n",
    "</div>"
   ]
  },
  {
   "cell_type": "code",
   "execution_count": null,
   "metadata": {},
   "outputs": [],
   "source": [
    "# items()方法用来返回字典中的各个键值对，每个键值对构成一个元组\n",
    "\n",
    "list(personal_information.items())"
   ]
  },
  {
   "cell_type": "markdown",
   "metadata": {},
   "source": [
    "<div style=\"font-family:STKaiti;font-size:22px;font-weight:Bold;color:blue\">\n",
    "5.keys方法\n",
    "</div>"
   ]
  },
  {
   "cell_type": "code",
   "execution_count": null,
   "metadata": {},
   "outputs": [],
   "source": [
    "# keys()方法用来返回字典中的各个键\n",
    "\n",
    "list(personal_information.keys())"
   ]
  },
  {
   "cell_type": "markdown",
   "metadata": {},
   "source": [
    "<div style=\"font-family:STKaiti;font-size:22px;font-weight:Bold;color:blue\">\n",
    "6.values方法\n",
    "</div>"
   ]
  },
  {
   "cell_type": "code",
   "execution_count": null,
   "metadata": {},
   "outputs": [],
   "source": [
    "# values()方法用来返回字典中的各个值\n",
    "\n",
    "list(personal_information.values())"
   ]
  },
  {
   "cell_type": "markdown",
   "metadata": {},
   "source": [
    "<div style=\"font-family:STKaiti;font-size:22px;font-weight:Bold;color:blue\">\n",
    "7.update方法\n",
    "</div>"
   ]
  },
  {
   "cell_type": "code",
   "execution_count": null,
   "metadata": {},
   "outputs": [],
   "source": [
    "# dict.update(dict2)方法可以用一个字典中的项更新另外一个字典\n",
    "\n",
    "old_dict = {'name':'Kite','age':22}\n",
    "\n",
    "new_dict = {'nationality':'Ireland','weight':48.2}\n",
    "\n",
    "print(old_dict)\n",
    "\n",
    "old_dict.update(new_dict)  # 用新字典中的项更新旧字典\n",
    "\n",
    "print(old_dict)"
   ]
  },
  {
   "cell_type": "markdown",
   "metadata": {},
   "source": [
    "<div style=\"font-family:STKaiti;font-size:22px;font-weight:Bold;color:blue\">\n",
    "8.pop方法\n",
    "</div>"
   ]
  },
  {
   "cell_type": "code",
   "execution_count": null,
   "metadata": {},
   "outputs": [],
   "source": [
    "# pop(key)获取给定键名对应的值，然后将这个键值对从字典中删除\n",
    "\n",
    "age = old_dict.pop('age')  # 将获取的值赋值给age变量\n",
    "\n",
    "print(age)\n",
    "\n",
    "print(old_dict)"
   ]
  },
  {
   "cell_type": "markdown",
   "metadata": {},
   "source": [
    "<div style=\"font-family:STKaiti;font-size:26px;font-weight:Bold;color:black\">\n",
    "    <u> 二、集合</u>\n",
    "</div>"
   ]
  },
  {
   "cell_type": "markdown",
   "metadata": {},
   "source": [
    "<div style=\"font-family:STKaiti;font-size:22px;line-height:2\">\n",
    "Python中的集合有三个特点:一是集合是无序的，二是集合元素不允许重复，三是集合元素必须是不可变数据类型，因此集合中的元素可以是数字、字符串或者元组，但是不能是列表和字典。\n",
    "\n",
    "</div>"
   ]
  },
  {
   "cell_type": "markdown",
   "metadata": {},
   "source": [
    "<div style=\"font-family:STKaiti;font-size:24px;font-weight:Bold;color:black\">\n",
    "(一)创建集合\n",
    "</div>"
   ]
  },
  {
   "cell_type": "markdown",
   "metadata": {},
   "source": [
    "<div style=\"font-family:STKaiti;font-size:22px;line-height:2\">\n",
    "创建集合有两种方法，一种方法是在一对大括号中放入集合元素，另一种方法是使用set函数。\n",
    "\n",
    "</div>"
   ]
  },
  {
   "cell_type": "code",
   "execution_count": null,
   "metadata": {},
   "outputs": [],
   "source": [
    "# 使用大括号创建集合\n",
    "\n",
    "company_names = {'Google','Facebook','Amazon','Apple','Dell'}\n",
    "\n",
    "print(company_names)"
   ]
  },
  {
   "cell_type": "code",
   "execution_count": null,
   "metadata": {},
   "outputs": [],
   "source": [
    "# 使用set函数创建\n",
    "\n",
    "list_to_set = set([1,2,3,3,5])\n",
    "\n",
    "print(list_to_set)\n",
    "\n",
    "tuple_to_set = set(('jim',23,'male'))\n",
    "\n",
    "print(tuple_to_set)\n",
    "\n",
    "string_to_set = set('hello')\n",
    "\n",
    "print(string_to_set)"
   ]
  },
  {
   "cell_type": "code",
   "execution_count": null,
   "metadata": {},
   "outputs": [],
   "source": [
    "# 注意：不能使用{}创建一个空集合，而应使用set()创建\n",
    "\n",
    "empty_set = set()"
   ]
  },
  {
   "cell_type": "markdown",
   "metadata": {},
   "source": [
    "<div style=\"font-family:STKaiti;font-size:24px;font-weight:Bold;color:black\">\n",
    "(二)基本集合操作\n",
    "</div>"
   ]
  },
  {
   "cell_type": "code",
   "execution_count": null,
   "metadata": {},
   "outputs": [],
   "source": [
    "# 使用len函数计算集合中的元素个数\n",
    "\n",
    "len(string_to_set)"
   ]
  },
  {
   "cell_type": "code",
   "execution_count": null,
   "metadata": {},
   "outputs": [],
   "source": [
    "# 删除集合\n",
    "\n",
    "del string_to_set\n",
    "\n",
    "print(string_to_set)"
   ]
  },
  {
   "cell_type": "code",
   "execution_count": null,
   "metadata": {},
   "outputs": [],
   "source": [
    "# 集合的成员运算\n",
    "\n",
    "print('jim' in tuple_to_set)\n",
    "\n",
    "print(4 in list_to_set)"
   ]
  },
  {
   "cell_type": "markdown",
   "metadata": {},
   "source": [
    "<div style=\"font-family:STKaiti;font-size:24px;font-weight:Bold;color:black\">\n",
    "(三)集合运算\n",
    "</div>"
   ]
  },
  {
   "cell_type": "markdown",
   "metadata": {},
   "source": [
    "<div style=\"font-family:STKaiti;font-size:22px;line-height:2\">\n",
    "集合操作符与数学符号的对应关系及其说明可参见下表：\n",
    "\n",
    "</div>"
   ]
  },
  {
   "cell_type": "markdown",
   "metadata": {},
   "source": [
    "![img](https://images-1252829441.cos.ap-guangzhou.myqcloud.com/img/20200526153626.png)\n"
   ]
  },
  {
   "cell_type": "code",
   "execution_count": null,
   "metadata": {},
   "outputs": [],
   "source": [
    "numbers = {1,2,3,4,5,6,7,8,9,10}\n",
    "\n",
    "even_numbers = {2,4,6,8,10}\n",
    "\n",
    "odd_numbers = {1,3,5,7,9}\n",
    "\n",
    "prime_numbers = {2,3,5,7}"
   ]
  },
  {
   "cell_type": "code",
   "execution_count": null,
   "metadata": {},
   "outputs": [],
   "source": [
    "# 判断两个集合是否相等\n",
    "\n",
    "print(even_numbers == odd_numbers)\n",
    "\n",
    "print(even_numbers != odd_numbers)"
   ]
  },
  {
   "cell_type": "code",
   "execution_count": null,
   "metadata": {},
   "outputs": [],
   "source": [
    "# 判断是否是子集\n",
    "\n",
    "print(even_numbers < numbers)  # 判断偶数集合是否是整数集合的真子集\n",
    "\n",
    "print(numbers < numbers)  # 判断整数集合是否是自身的真子集"
   ]
  },
  {
   "cell_type": "code",
   "execution_count": null,
   "metadata": {},
   "outputs": [],
   "source": [
    "# 判断是否是超集\n",
    "\n",
    "print(numbers > odd_numbers)  # 判断整数集合是否是奇数集合的严格超集\n",
    "\n",
    "print(odd_numbers > prime_numbers)  # 判断奇数集合是否是质数集合的严格超集"
   ]
  },
  {
   "cell_type": "markdown",
   "metadata": {},
   "source": [
    "![img](https://images-1252829441.cos.ap-guangzhou.myqcloud.com/img/20200526160237.png)\n"
   ]
  },
  {
   "cell_type": "code",
   "execution_count": null,
   "metadata": {},
   "outputs": [],
   "source": [
    "# 合集运算\n",
    "\n",
    "even_numbers | odd_numbers"
   ]
  },
  {
   "cell_type": "code",
   "execution_count": null,
   "metadata": {},
   "outputs": [],
   "source": [
    "# 交集运算\n",
    "\n",
    "even_numbers & prime_numbers"
   ]
  },
  {
   "cell_type": "code",
   "execution_count": null,
   "metadata": {},
   "outputs": [],
   "source": [
    "# 差集运算\n",
    "\n",
    "print(numbers - odd_numbers)\n",
    "\n",
    "print(odd_numbers - numbers)  # 注意差分运算的顺序"
   ]
  },
  {
   "cell_type": "code",
   "execution_count": null,
   "metadata": {},
   "outputs": [],
   "source": [
    "# 对称差分运算\n",
    "\n",
    "odd_numbers ^ prime_numbers  # 并集{1,2,3,5,7,9}减去交集{3,5,7}"
   ]
  },
  {
   "cell_type": "markdown",
   "metadata": {},
   "source": [
    "<div style=\"font-family:STKaiti;font-size:24px;font-weight:Bold;color:black\">\n",
    "(四)集合方法\n",
    "</div>"
   ]
  },
  {
   "cell_type": "markdown",
   "metadata": {},
   "source": [
    "<div style=\"font-family:STKaiti;font-size:22px;line-height:2\">\n",
    "有些集合方法的功能和我们上面讲过的集合运算符的功能基本一致，唯一的区别是当使用操作符时，操作符两边必须都是集合，而在使用集合方法时，方法的参数也可以其它可迭代类型，比如序列。下面的表格中我列出了集合方法对应的操作符：\n",
    "\n",
    "</div>"
   ]
  },
  {
   "cell_type": "markdown",
   "metadata": {},
   "source": [
    "![img](https://images-1252829441.cos.ap-guangzhou.myqcloud.com/img/20200527091923.png)\n"
   ]
  },
  {
   "cell_type": "code",
   "execution_count": null,
   "metadata": {},
   "outputs": [],
   "source": [
    "# update方法会修改原集合，让其变成两个集合的并集\n",
    "\n",
    "odd_numbers.update(even_numbers)\n",
    "\n",
    "print(odd_numbers)"
   ]
  },
  {
   "cell_type": "code",
   "execution_count": null,
   "metadata": {},
   "outputs": [],
   "source": [
    "# add(element)方法可以给集合添加元素\n",
    "\n",
    "fruit = {'apple','pear','banana'}\n",
    "\n",
    "fruit.add('watermelon')\n",
    "\n",
    "print(fruit)"
   ]
  },
  {
   "cell_type": "code",
   "execution_count": null,
   "metadata": {},
   "outputs": [],
   "source": [
    "# remove(element)方法可以把特定元素从集合中移除，如果元素不存在则报错\n",
    "\n",
    "fruit.remove('apple')\n",
    "\n",
    "print(fruit)\n",
    "\n",
    "fruit.remove('orange')"
   ]
  },
  {
   "cell_type": "code",
   "execution_count": null,
   "metadata": {},
   "outputs": [],
   "source": [
    "# discard(element)方法和remove方法几乎一样，但元素不存在时不报错\n",
    "\n",
    "fruit = {'apple','pear','banana'}\n",
    "\n",
    "fruit.discard('apple')\n",
    "\n",
    "print(fruit)\n",
    "\n",
    "fruit.discard('orange')"
   ]
  },
  {
   "cell_type": "code",
   "execution_count": null,
   "metadata": {},
   "outputs": [],
   "source": [
    "# pop()方法可以随机移除集合中的一个元素\n",
    "\n",
    "fruit = {'apple','pear','banana'}\n",
    "\n",
    "element = fruit.pop()\n",
    "\n",
    "print(fruit)\n",
    "\n",
    "print(element)"
   ]
  },
  {
   "cell_type": "markdown",
   "metadata": {},
   "source": [
    "<div style=\"font-family:STKaiti;font-size:26px;font-weight:Bold;color:black\">\n",
    "    <u> 三、上节课练习答案</u>\n",
    "</div>"
   ]
  },
  {
   "cell_type": "markdown",
   "metadata": {},
   "source": [
    "<div style=\"font-family:STKaiti;font-size:22px;font-weight:Bold;color:blue\">\n",
    "1.数列$a_n=3n+2(a_1=2)$，列出该数列小于等于20的所有项，并计算所有项的和。\n",
    "</div>"
   ]
  },
  {
   "cell_type": "code",
   "execution_count": null,
   "metadata": {},
   "outputs": [],
   "source": [
    "numbers = [1, 2, 3, 4, 5, 6, 7, 8, 9, 10, 11, 12, 13, 14, 15, 16, 17, 18, 19, 20]\n",
    "\n",
    "sequence = numbers[1::3]\n",
    "\n",
    "print(sequence)\n",
    "\n",
    "print(sum(sequence))"
   ]
  },
  {
   "cell_type": "markdown",
   "metadata": {},
   "source": [
    "<div style=\"font-family:STKaiti;font-size:22px;font-weight:Bold;color:blue\">\n",
    "2.移除以下列表的最后一项，然后求它的最小值与最大值，并将其按降序排列。\n",
    "</div>"
   ]
  },
  {
   "cell_type": "code",
   "execution_count": null,
   "metadata": {},
   "outputs": [],
   "source": [
    "numbers = [78, 21, 64, 44, 54, 76, 85, 15, 21, 36, 37]\n",
    "\n",
    "numbers.pop()  # 移除列表中的最后一项\n",
    "\n",
    "print(numbers)\n",
    "\n",
    "print(min(numbers))  # 求列表的最小值\n",
    "\n",
    "print(max(numbers))  # 求列表的最大值\n",
    "\n",
    "numbers.sort(reverse=True)  # 将列表元素按降序排列\n",
    "\n",
    "print(numbers)"
   ]
  },
  {
   "cell_type": "markdown",
   "metadata": {},
   "source": [
    "<div style=\"font-family:STKaiti;font-size:22px;font-weight:Bold;color:blue\">\n",
    "3.在以下嵌套列表中列出了三位名人的姓名与生卒年份，请输出Gauss出生的年份。\n",
    "</div>"
   ]
  },
  {
   "cell_type": "code",
   "execution_count": null,
   "metadata": {},
   "outputs": [],
   "source": [
    "info = [('Euler',(1707,1783)),('Gauss',(1777,1855)),('Newton',(1643,1727))]\n",
    "\n",
    "print(info[1][1][0])"
   ]
  },
  {
   "cell_type": "markdown",
   "metadata": {},
   "source": [
    "<div style=\"font-family:STKaiti;font-size:26px;font-weight:Bold;color:black\">\n",
    "    <u> 四、练习</u>\n",
    "</div>"
   ]
  },
  {
   "cell_type": "markdown",
   "metadata": {},
   "source": [
    "<div style=\"font-family:STKaiti;font-size:22px;font-weight:Bold;color:blue\">\n",
    "1.根据以下表格中的数据，使用三种方法创建一个字典：\n",
    "</div>"
   ]
  },
  {
   "cell_type": "markdown",
   "metadata": {},
   "source": [
    "![img](https://images-1252829441.cos.ap-guangzhou.myqcloud.com/img/20200527113823.png)\n"
   ]
  },
  {
   "cell_type": "code",
   "execution_count": null,
   "metadata": {},
   "outputs": [],
   "source": []
  },
  {
   "cell_type": "markdown",
   "metadata": {},
   "source": [
    "<div style=\"font-family:STKaiti;font-size:22px;font-weight:Bold;color:blue\">\n",
    "2.对上面已经创建的字典，提取美国、英国与法国的死亡人数，如果字典中不存在该键，则创建一个并将默认值设为N/A.\n",
    "</div>"
   ]
  },
  {
   "cell_type": "code",
   "execution_count": null,
   "metadata": {},
   "outputs": [],
   "source": []
  },
  {
   "cell_type": "markdown",
   "metadata": {},
   "source": [
    "<div style=\"font-family:STKaiti;font-size:22px;font-weight:Bold;color:blue\">\n",
    "3.提取以上字典中的死亡人数形成列表，并做降序排列。\n",
    "</div>"
   ]
  },
  {
   "cell_type": "code",
   "execution_count": null,
   "metadata": {},
   "outputs": [],
   "source": []
  },
  {
   "cell_type": "markdown",
   "metadata": {},
   "source": [
    "<div style=\"font-family:STKaiti;font-size:22px;font-weight:Bold;color:blue\">\n",
    "4.计算以下两个集合的并集、交集、差集(集合even_numbers在前)和对称差分。\n",
    "</div>"
   ]
  },
  {
   "cell_type": "code",
   "execution_count": null,
   "metadata": {},
   "outputs": [],
   "source": [
    "even_numbers = {2,4,6,8,10}\n",
    "\n",
    "square_numbers = {1,4,9}"
   ]
  }
 ],
 "metadata": {
  "kernelspec": {
   "display_name": "Python 3",
   "language": "python",
   "name": "python3"
  },
  "language_info": {
   "codemirror_mode": {
    "name": "ipython",
    "version": 3
   },
   "file_extension": ".py",
   "mimetype": "text/x-python",
   "name": "python",
   "nbconvert_exporter": "python",
   "pygments_lexer": "ipython3",
   "version": "3.7.6"
  }
 },
 "nbformat": 4,
 "nbformat_minor": 4
}
