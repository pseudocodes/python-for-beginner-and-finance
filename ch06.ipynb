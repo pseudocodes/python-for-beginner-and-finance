{
 "cells": [
  {
   "cell_type": "markdown",
   "metadata": {},
   "source": [
    "<div align=\"right\" style=\"text-align:right;\">\n",
    "        <a href=\"https://metaquant.org/\">\n",
    "                <img style=\"width:400px;display:inline;\" width=\"400px\" src=\"https://images-1252829441.cos.ap-guangzhou.myqcloud.com/img/20200511155258.png\">\n",
    "        </a>\n",
    "</div>"
   ]
  },
  {
   "cell_type": "markdown",
   "metadata": {},
   "source": [
    "<div style=\"font-family:STKaiti;font-size:28px;font-weight:Bold;color:green;\">\n",
    "第六讲：函数(基础知识)\n",
    "</div>"
   ]
  },
  {
   "cell_type": "markdown",
   "metadata": {},
   "source": [
    "<div style=\"font-family:STKaiti;font-size:22px;line-height:2\">\n",
    "\n",
    "<ul>\n",
    "<li><p>定义函数</p>\n",
    "<ul>\n",
    "<li>函数的作用</li>\n",
    "<li>使用def关键字定义函数</li>\n",
    "<li>函数的返回值</li>\n",
    "\n",
    "</ul>\n",
    "</li>\n",
    "<li><p>函数的参数</p>\n",
    "<ul>\n",
    "<li>位置参数</li>\n",
    "<li>关键字参数</li>\n",
    "<li>默认参数</li>\n",
    "<li>不定长参数</li>\n",
    "\n",
    "</ul>\n",
    "</li>\n",
    "<li><p>上节课练习讲解</p>\n",
    "</li>\n",
    "<li><p>本节课练习</p>\n",
    "</li>\n",
    "\n",
    "</ul>\n",
    "\n",
    "\n",
    "\n",
    "\n",
    "\n",
    "\n",
    "</div>"
   ]
  },
  {
   "cell_type": "markdown",
   "metadata": {},
   "source": [
    "<div style=\"font-family:STKaiti;font-size:26px;font-weight:Bold;color:black\">\n",
    "    <u> 一、定义函数</u>\n",
    "</div>"
   ]
  },
  {
   "cell_type": "markdown",
   "metadata": {},
   "source": [
    "<div style=\"font-family:STKaiti;font-size:24px;font-weight:Bold;color:black\">\n",
    "(一)函数的作用\n",
    "</div>"
   ]
  },
  {
   "cell_type": "markdown",
   "metadata": {},
   "source": [
    "<div style=\"font-family:STKaiti;font-size:22px;line-height:2\">\n",
    "\n",
    " 函数是一种组织代码的方式，是带名字的代码块，在编程中使用函数至少有三个方面的好处：\n",
    "<ul>\n",
    "<li>可以避免代码的重复，提高编写代码的效率；</li>\n",
    "<li>让我们不用关心函数代码的具体实现，可以站在巨人的肩膀上；</li>\n",
    "<li>让代码的结构更加清晰，可读性更高。</li>\n",
    "\n",
    "</ul>\n",
    "\n",
    "\n",
    "</div>"
   ]
  },
  {
   "cell_type": "markdown",
   "metadata": {},
   "source": [
    "<div style=\"font-family:STKaiti;font-size:24px;font-weight:Bold;color:black\">\n",
    "(二)使用def关键字定义函数\n",
    "</div>"
   ]
  },
  {
   "cell_type": "markdown",
   "metadata": {},
   "source": [
    "<div style=\"font-family:STKaiti;font-size:22px;line-height:2\">\n",
    "<p>你可以定义一个由自己想要功能的函数，以下是简单的规则：</p>\n",
    "<ul>\n",
    "<li>函数代码块以 <strong>def</strong> 关键词开头，后接函数名称和圆括号 <strong>()</strong>。</li>\n",
    "<li>任何参数都必须放在圆括号中间，圆括号内可以用于定义参数。</li>\n",
    "<li>函数体的开始可以选择性地使用文档字符串—用于存放函数说明。</li>\n",
    "<li>函数内容以冒号起始，并且缩进。</li>\n",
    "<li>return加表达式表示结束函数，函数体中return语句会被忽略，不带表达式的return相当于返回 None。</li>\n",
    "\n",
    "</ul>\n",
    "\n",
    "</div>"
   ]
  },
  {
   "cell_type": "code",
   "execution_count": null,
   "metadata": {},
   "outputs": [],
   "source": [
    "def function_name(parameter):\n",
    "    \n",
    "    \"\"\"\n",
    "    这是文档字符串，用于存放函数说明\n",
    "    \"\"\"\n",
    "    \n",
    "    statement1\n",
    "    \n",
    "    statement2\n",
    "    \n",
    "    statement3\n",
    "    \n",
    "    return a,b,c"
   ]
  },
  {
   "cell_type": "code",
   "execution_count": null,
   "metadata": {},
   "outputs": [],
   "source": [
    "# 编写一个计算矩形面积的函数\n",
    "\n",
    "def area_of_rectangle(length,width):\n",
    "\n",
    "    '''Calculate the area of a rectangle.'''\n",
    "\n",
    "    area = length * width\n",
    "    return area"
   ]
  },
  {
   "cell_type": "code",
   "execution_count": null,
   "metadata": {},
   "outputs": [],
   "source": [
    "# 调用上面定义的函数\n",
    "\n",
    "print(area_of_rectangle(4,3))\n",
    "\n",
    "# 使用help函数查看函数说明\n",
    "\n",
    "help(area_of_rectangle)"
   ]
  },
  {
   "cell_type": "markdown",
   "metadata": {},
   "source": [
    "<div style=\"font-family:STKaiti;font-size:24px;font-weight:Bold;color:black\">\n",
    "(三)函数的返回值\n",
    "</div>"
   ]
  },
  {
   "cell_type": "code",
   "execution_count": null,
   "metadata": {},
   "outputs": [],
   "source": [
    "# 编写一个计算圆的面积和周长的函数\n",
    "\n",
    "def area_and_perimeter_of_circle(radius):\n",
    "    \n",
    "    '''Calculate the area and perimeter of the circle'''\n",
    "    \n",
    "    pi = 3.14\n",
    "    \n",
    "    area = pi * radius**2\n",
    "    \n",
    "    perimeter = 2 * pi * radius\n",
    "    \n",
    "    return area,perimeter"
   ]
  },
  {
   "cell_type": "code",
   "execution_count": null,
   "metadata": {},
   "outputs": [],
   "source": [
    "# 调用上面定义的函数\n",
    "\n",
    "print(area_and_perimeter_of_circle(4))\n",
    "\n",
    "# 使用元组解包获得多个返回值中的个别值\n",
    "\n",
    "area, perimeter = area_and_perimeter_of_circle(4)\n",
    "\n",
    "print(area,perimeter)\n",
    "\n",
    "# 获取返回值的部分值\n",
    "\n",
    "area, _ = area_and_perimeter_of_circle(4)\n",
    "\n",
    "print(area)"
   ]
  },
  {
   "cell_type": "markdown",
   "metadata": {},
   "source": [
    "<div style=\"font-family:STKaiti;font-size:26px;font-weight:Bold;color:black\">\n",
    "    <u> 二、函数的参数</u>\n",
    "</div>"
   ]
  },
  {
   "cell_type": "markdown",
   "metadata": {},
   "source": [
    "<div style=\"font-family:STKaiti;font-size:24px;font-weight:Bold;color:black\">\n",
    "(一)位置参数\n",
    "</div>"
   ]
  },
  {
   "cell_type": "markdown",
   "metadata": {},
   "source": [
    "<div style=\"font-family:STKaiti;font-size:22px;line-height:2\">\n",
    "<p>形参是形式参数的简称，它是指出现在函数定义中的名称，而实参是实际参数的简称，它是在调用函数时实际传入的值。</p>\n",
    "<p>位置参数，也叫位置形参，顾名思义就是位置对于这种参数非常重要。对于位置形参，实参的位置必须和形参位置一一对应。</p>\n",
    "    \n",
    "\n",
    "</div>"
   ]
  },
  {
   "cell_type": "code",
   "execution_count": null,
   "metadata": {},
   "outputs": [],
   "source": [
    "# 定义一个函数计算数x的n次幂\n",
    "\n",
    "def power(x,n):\n",
    "    ans = pow(x,n)\n",
    "    return ans\n",
    "\n",
    "# 调用函数计算9的2次方\n",
    "\n",
    "print(power(9,2))\n",
    "\n",
    "# 位置形参与实参的位置必须一一对应\n",
    "\n",
    "print(power(2,9))"
   ]
  },
  {
   "cell_type": "markdown",
   "metadata": {},
   "source": [
    "<div style=\"font-family:STKaiti;font-size:24px;font-weight:Bold;color:black\">\n",
    "(二)关键字参数\n",
    "</div>"
   ]
  },
  {
   "cell_type": "code",
   "execution_count": null,
   "metadata": {},
   "outputs": [],
   "source": [
    "# 使用关键字参数的方式调用power函数\n",
    "\n",
    "print(power(n=2,x=9))\n",
    "\n",
    "# 关键字参数与位置参数混合使用\n",
    "\n",
    "print(power(9,n=2))\n",
    "\n",
    "# 不能为同一个形参重复传值\n",
    "\n",
    "print(power(9,x=3,n=2))"
   ]
  },
  {
   "cell_type": "markdown",
   "metadata": {},
   "source": [
    "<div style=\"font-family:STKaiti;font-size:24px;font-weight:Bold;color:black\">\n",
    "(三)默认参数\n",
    "</div>"
   ]
  },
  {
   "cell_type": "code",
   "execution_count": null,
   "metadata": {},
   "outputs": [],
   "source": [
    "# 在定义函数时使用默认参数\n",
    "\n",
    "def power(x,n=2):\n",
    "    ans = pow(x,n)\n",
    "    return ans"
   ]
  },
  {
   "cell_type": "code",
   "execution_count": null,
   "metadata": {},
   "outputs": [],
   "source": [
    "# 调用函数时默认参数可以不用填写\n",
    "\n",
    "print(power(3))\n",
    "\n",
    "# 如果仍对默认参数传值，则会覆盖默认值\n",
    "\n",
    "print(power(3,3))"
   ]
  },
  {
   "cell_type": "code",
   "execution_count": null,
   "metadata": {},
   "outputs": [],
   "source": [
    "# 定义函数时位置参数必须在默认参数之前\n",
    "\n",
    "def power(x=3,n):\n",
    "    ans = pow(x,n)\n",
    "    return ans"
   ]
  },
  {
   "cell_type": "markdown",
   "metadata": {},
   "source": [
    "<div style=\"font-family:STKaiti;font-size:24px;font-weight:Bold;color:black\">\n",
    "(四)不定长参数\n",
    "</div>"
   ]
  },
  {
   "cell_type": "markdown",
   "metadata": {},
   "source": [
    "<div style=\"font-family:STKaiti;font-size:22px;font-weight:Bold;color:blue\">\n",
    "1.不定长位置参数\n",
    "</div>"
   ]
  },
  {
   "cell_type": "code",
   "execution_count": null,
   "metadata": {},
   "outputs": [],
   "source": [
    "# 不使用不定长参数，编写一个函数求任意个自然数的平方和\n",
    "\n",
    "def sum_of_squares(numbers):    \n",
    "    ans = 0  \n",
    "    for num in numbers:\n",
    "        ans = ans + num**2\n",
    "    return ans\n",
    "\n",
    "# 把需要求值的自然数放入列表，再调用函数\n",
    "\n",
    "numbers = [1,2,3,4,5]\n",
    "\n",
    "print(sum_of_squares(numbers))"
   ]
  },
  {
   "cell_type": "code",
   "execution_count": null,
   "metadata": {},
   "outputs": [],
   "source": [
    "# 使用不定长参数重新定义上面的函数\n",
    "\n",
    "def sum_of_square_numbers(*numbers):    \n",
    "    ans = 0  \n",
    "    for num in numbers:\n",
    "        ans = ans + num**2\n",
    "    return ans\n",
    "\n",
    "# 调用函数，不用将自然数放入列表中，直接输入参数即可\n",
    "\n",
    "print(sum_of_square_numbers(1,2,3,4,5))\n",
    "\n",
    "print(sum_of_square_numbers(1,2,3))\n",
    "\n",
    "print(sum_of_square_numbers())"
   ]
  },
  {
   "cell_type": "code",
   "execution_count": null,
   "metadata": {},
   "outputs": [],
   "source": [
    "# 在函数中加入print语句，查看参数的值\n",
    "\n",
    "def sum_of_square_numbers_with_print(*numbers):\n",
    "    print(numbers)\n",
    "    ans = 0  \n",
    "    for num in numbers:\n",
    "        ans = ans + num**2\n",
    "    return ans\n",
    "\n",
    "# 调用函数\n",
    "\n",
    "sum_of_square_numbers_with_print(1,2,3,4,5)"
   ]
  },
  {
   "cell_type": "code",
   "execution_count": null,
   "metadata": {},
   "outputs": [],
   "source": [
    "# 使用星号对列表和元组元素进行拆分\n",
    "\n",
    "num = list(range(1,11))\n",
    "\n",
    "sum_of_square_numbers(*num)"
   ]
  },
  {
   "cell_type": "markdown",
   "metadata": {},
   "source": [
    "<div style=\"font-family:STKaiti;font-size:22px;font-weight:Bold;color:blue\">\n",
    "2.不定长关键字参数\n",
    "</div>"
   ]
  },
  {
   "cell_type": "code",
   "execution_count": null,
   "metadata": {},
   "outputs": [],
   "source": [
    "# 使用不定长关键字参数获取数量和含义不确定的参数\n",
    "\n",
    "def get_signup_info(username,email,password,**other_info):\n",
    "    signup_info = {'username':username,'email':email,'password':password}\n",
    "    for key,value in other_info.items():\n",
    "        signup_info[key] = value\n",
    "    return signup_info"
   ]
  },
  {
   "cell_type": "code",
   "execution_count": null,
   "metadata": {},
   "outputs": [],
   "source": [
    "# 调用使用了不定长关键字参数的函数\n",
    "\n",
    "get_signup_info('jim','jim@example.com','123456',age=35,job='teacher')"
   ]
  },
  {
   "cell_type": "code",
   "execution_count": null,
   "metadata": {},
   "outputs": [],
   "source": [
    "## 使用双星号拆分字典中各项成为不定长关键字参数\n",
    "\n",
    "personal_information = dict(age=25,job='engineer',city='Shang Hai',gender='male')\n",
    "\n",
    "get_signup_info('Bruce','bruce@example.com','545127',**personal_information)"
   ]
  },
  {
   "cell_type": "markdown",
   "metadata": {},
   "source": [
    "<div style=\"font-family:STKaiti;font-size:24px;font-weight:Bold;color:black\">\n",
    "(五)参数组合\n",
    "</div>"
   ]
  },
  {
   "cell_type": "markdown",
   "metadata": {},
   "source": [
    "<div style=\"font-family:STKaiti;font-size:22px;line-height:2\">\n",
    "定义函数时，必须按照位置参数、默认参数、不定长位置参数和不定长关键字参数这样的顺序。\n",
    "    \n",
    "\n",
    "</div>"
   ]
  },
  {
   "cell_type": "code",
   "execution_count": null,
   "metadata": {},
   "outputs": [],
   "source": [
    "def example_func(arg1,arg2,arg3=5,*args,**kwargs):\n",
    "    print('arg1:',arg1)\n",
    "    print('arg2:',arg2)\n",
    "    print('arg3:',arg3)\n",
    "    print('args:',args)\n",
    "    print('kwargs:',kwargs)\n",
    "\n",
    "example_func(1,2,3,4,5,6,a=11,b=12)"
   ]
  },
  {
   "cell_type": "markdown",
   "metadata": {},
   "source": [
    "<div style=\"font-family:STKaiti;font-size:26px;font-weight:Bold;color:black\">\n",
    "    <u> 三、上节课练习讲解</u>\n",
    "</div>"
   ]
  },
  {
   "cell_type": "markdown",
   "metadata": {},
   "source": [
    "<div style=\"font-family:STKaiti;font-size:22px;font-weight:Bold;color:blue\">\n",
    "1.数列$a_n=3n+2(a_1=2)$，使用range函数列出该数列小于等于50的所有项。\n",
    "</div>"
   ]
  },
  {
   "cell_type": "code",
   "execution_count": null,
   "metadata": {},
   "outputs": [],
   "source": [
    "list(range(2,51,3))"
   ]
  },
  {
   "cell_type": "markdown",
   "metadata": {},
   "source": [
    "<div style=\"font-family:STKaiti;font-size:22px;font-weight:Bold;color:blue\">\n",
    "2.质数，又称素数，是指在大于1的自然数中，除了1和该数自身外，无法被其他自然数整除的数。试编写一个程序，从用户处获取一个自然数，并返回该数是否是一个质数。\n",
    "</div>"
   ]
  },
  {
   "cell_type": "code",
   "execution_count": null,
   "metadata": {},
   "outputs": [],
   "source": [
    "number = int(input('please enter a number:'))\n",
    "\n",
    "i = 2\n",
    "\n",
    "while i < number:\n",
    "    if number % i == 0:\n",
    "        print('this number is not a prime.')\n",
    "        break\n",
    "    i = i + 1\n",
    "else:\n",
    "    print('this number is a prime.')"
   ]
  },
  {
   "cell_type": "markdown",
   "metadata": {},
   "source": [
    "<div style=\"font-family:STKaiti;font-size:26px;font-weight:Bold;color:black\">\n",
    "    <u> 四、本节课练习</u>\n",
    "</div>"
   ]
  },
  {
   "cell_type": "markdown",
   "metadata": {},
   "source": [
    "<div style=\"font-family:STKaiti;font-size:22px;font-weight:Bold;color:blue\">\n",
    "1.定义一个函数，这个函数可以计算任意数量自然数的整数次方之和。\n",
    "</div>"
   ]
  },
  {
   "cell_type": "code",
   "execution_count": null,
   "metadata": {},
   "outputs": [],
   "source": []
  },
  {
   "cell_type": "markdown",
   "metadata": {},
   "source": [
    "<div style=\"font-family:STKaiti;font-size:22px;font-weight:Bold;color:blue\">\n",
    "2.定义一个函数，这个函数可以判断给定的自然数是否是一个质数，如果是则返回True,如果不是则返回False，利用这个函数列出100以内的所有质数。\n",
    "</div>"
   ]
  },
  {
   "cell_type": "code",
   "execution_count": null,
   "metadata": {},
   "outputs": [],
   "source": []
  }
 ],
 "metadata": {
  "kernelspec": {
   "display_name": "Python 3",
   "language": "python",
   "name": "python3"
  },
  "language_info": {
   "codemirror_mode": {
    "name": "ipython",
    "version": 3
   },
   "file_extension": ".py",
   "mimetype": "text/x-python",
   "name": "python",
   "nbconvert_exporter": "python",
   "pygments_lexer": "ipython3",
   "version": "3.7.6"
  }
 },
 "nbformat": 4,
 "nbformat_minor": 4
}
