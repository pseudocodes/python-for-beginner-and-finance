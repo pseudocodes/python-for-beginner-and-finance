{
 "cells": [
  {
   "cell_type": "markdown",
   "metadata": {},
   "source": [
    "<div align=\"right\" style=\"text-align:right;\">\n",
    "        <a href=\"https://metaquant.org/\">\n",
    "                <img style=\"width:400px;display:inline;\" width=\"400px\" src=\"https://images-1252829441.cos.ap-guangzhou.myqcloud.com/img/20200511155258.png\">\n",
    "        </a>\n",
    "</div>"
   ]
  },
  {
   "cell_type": "markdown",
   "metadata": {},
   "source": [
    "<div style=\"font-family:STKaiti;font-size:28px;font-weight:Bold;color:green;\">\n",
    "第三讲：序列(列表与元组)\n",
    "</div>"
   ]
  },
  {
   "cell_type": "markdown",
   "metadata": {},
   "source": [
    "<div style=\"font-family:STKaiti;font-size:22px;line-height:2\">\n",
    "\n",
    "<ul>\n",
    "<li><p>序列概览</p>\n",
    "</li>\n",
    "<li><p>通用序列操作</p>\n",
    "<ul>\n",
    "<li><p>索引</p>\n",
    "</li>\n",
    "<li><p>切片</p>\n",
    "</li>\n",
    "<li><p>序列拼接</p>\n",
    "</li>\n",
    "<li><p>序列重复</p>\n",
    "</li>\n",
    "<li><p>成员运算符</p>\n",
    "</li>\n",
    "<li><p>常用序列函数</p>\n",
    "\n",
    "</li>\n",
    "\n",
    "</ul>\n",
    "</li>\n",
    "<li><p>列表</p>\n",
    "<ul>\n",
    "<li><p>list函数</p>\n",
    "</li>\n",
    "<li><p>常用列表操作</p>\n",
    "</li>\n",
    "<li><p>常用列表方法</p>\n",
    "\n",
    "</li>\n",
    "\n",
    "</ul>\n",
    "</li>\n",
    "<li><p>上节课练习答案</p>\n",
    "</li>\n",
    "<li><p>本节练习</p>\n",
    "</li>\n",
    "\n",
    "</ul>\n",
    "\n",
    "\n",
    "\n",
    "\n",
    "</div>"
   ]
  },
  {
   "cell_type": "markdown",
   "metadata": {},
   "source": [
    "<div style=\"font-family:STKaiti;font-size:26px;font-weight:Bold;color:black\">\n",
    "    <u> 一、序列概览</u>\n",
    "</div>"
   ]
  },
  {
   "cell_type": "markdown",
   "metadata": {},
   "source": [
    "<div style=\"font-family:STKaiti;font-size:22px;line-height:2\">\n",
    "Python语言中有六种内置的序列类型，但是常用的就是字符串、列表和元组这三种类型。在这三种类型里，字符串和元组都属于不可修改的数据类型，而列表是一个可修改的数据类型：\n",
    "\n",
    "</div>"
   ]
  },
  {
   "cell_type": "code",
   "execution_count": null,
   "metadata": {},
   "outputs": [],
   "source": [
    "# 不能对字符串进行修改\n",
    "\n",
    "string = \"hello world!\"\n",
    "\n",
    "string[1] = \"E\""
   ]
  },
  {
   "cell_type": "code",
   "execution_count": null,
   "metadata": {},
   "outputs": [],
   "source": [
    "# 不能对元组进行修改\n",
    "\n",
    "info_tuple = ('Jim Green',38,'male')\n",
    "\n",
    "info_tuple[1] = 23"
   ]
  },
  {
   "cell_type": "markdown",
   "metadata": {},
   "source": [
    "<div style=\"font-family:STKaiti;font-size:26px;font-weight:Bold;color:black\">\n",
    "    <u> 二、通用序列操作</u>\n",
    "</div>"
   ]
  },
  {
   "cell_type": "markdown",
   "metadata": {},
   "source": [
    "<div style=\"font-family:STKaiti;font-size:22px;line-height:2\">\n",
    "在python语言中，所有的序列都可以进行一些通用的操作，这些操作适用于所有序列，包括列表，元组和字符串，包括索引、切片、加、乘、检查每个元素是否属于序列的成员(成员运算)等等。除此之外，还有一些通过的序列函数，包括计算序列中元素的个数、找到序列中的最大值和最小值等等：\n",
    "\n",
    "</div>"
   ]
  },
  {
   "cell_type": "markdown",
   "metadata": {},
   "source": [
    "<div style=\"font-family:STKaiti;font-size:24px;font-weight:Bold;color:black\">\n",
    "(一)索引\n",
    "</div>"
   ]
  },
  {
   "cell_type": "markdown",
   "metadata": {},
   "source": [
    "<div style=\"font-family:STKaiti;font-size:22px;line-height:2\">\n",
    "可以通过索引获取序列中的元素，或者修改其中的元素(仅针对可修改的数据类型)：\n",
    "\n",
    "</div>"
   ]
  },
  {
   "cell_type": "code",
   "execution_count": null,
   "metadata": {},
   "outputs": [],
   "source": [
    "index = 2\n",
    "\n",
    "inverted_index = -2\n",
    "\n",
    "my_string = 'hello world!'\n",
    "\n",
    "my_list = ['will smith', 51, 'male']\n",
    "\n",
    "my_tuple = ('taylor swifth', 30, 'female')\n",
    "\n",
    "print(my_string[index],my_list[index],my_tuple[index])\n",
    "\n",
    "print(my_string[inverted_index],my_list[inverted_index],my_tuple[inverted_index])"
   ]
  },
  {
   "cell_type": "markdown",
   "metadata": {},
   "source": [
    "<div style=\"font-family:STKaiti;font-size:22px;line-height:2\">\n",
    "列表与元组支持嵌套，访问嵌套列表或元组中的元素需要多层索引\n",
    "\n",
    "</div>"
   ]
  },
  {
   "cell_type": "code",
   "execution_count": null,
   "metadata": {},
   "outputs": [],
   "source": [
    "nested_list = ['Jim Green',32,'male',['Kite Green(girl)','Bruce Green(boy)']]\n",
    "\n",
    "print(nested_list[3])  # 访问嵌套的列表\n",
    "\n",
    "print(nested_list[3][1])  # 通过索引访问嵌套的列表，从而提取出具体的元素"
   ]
  },
  {
   "cell_type": "markdown",
   "metadata": {},
   "source": [
    "<div style=\"font-family:STKaiti;font-size:24px;font-weight:Bold;color:black\">\n",
    "(二)切片\n",
    "</div>"
   ]
  },
  {
   "cell_type": "markdown",
   "metadata": {},
   "source": [
    "<div style=\"font-family:STKaiti;font-size:22px;line-height:2\">\n",
    "通过索引访问或修改序列中的单个元素，而通过切片则可以访问或修改序列中的多个元素：\n",
    "</div>"
   ]
  },
  {
   "cell_type": "code",
   "execution_count": null,
   "metadata": {},
   "outputs": [],
   "source": [
    "# 切片操作遵循左闭右开原则\n",
    "\n",
    "numbers = [1,2,3,4,5,6,7,8,9,10]\n",
    "\n",
    "print(numbers[0:5])"
   ]
  },
  {
   "cell_type": "code",
   "execution_count": null,
   "metadata": {},
   "outputs": [],
   "source": [
    "# 当截取序列中的前几个元素时，可省略左索引\n",
    "\n",
    "print(numbers[:5])  # 省略左索引，使用正向索引\n",
    "\n",
    "print(numbers[:-5])  # 省略左索引，使用反向索引\n",
    "\n",
    "# 当截取序列中后几个元素时，可省略右索引\n",
    "\n",
    "print(numbers[5:])  # 省略右索引，使用正向索引\n",
    "\n",
    "print(numbers[-5:])  # 省略右索引，使用正向索引\n",
    "\n",
    "# 同时省略左索引和右索引，会得到一个完全一样的新序列\n",
    "\n",
    "print(numbers[:])"
   ]
  },
  {
   "cell_type": "code",
   "execution_count": null,
   "metadata": {},
   "outputs": [],
   "source": [
    "# 切片操作默认的步长是一\n",
    "\n",
    "print(numbers[0:10:1])\n",
    "\n",
    "# 输出从一至十的所有奇数，步长设为二\n",
    "\n",
    "print(numbers[0:10:2])\n",
    "\n",
    "# 输出从一至十的所有偶数\n",
    "\n",
    "print(numbers[1:10:2])\n",
    "\n",
    "# 省略左右索引，输出一到十的所有奇数\n",
    "\n",
    "print(numbers[::2])\n",
    "\n",
    "# 省略右索引，输出一到十的所有偶数\n",
    "\n",
    "print(numbers[1::2])"
   ]
  },
  {
   "cell_type": "code",
   "execution_count": null,
   "metadata": {},
   "outputs": [],
   "source": [
    "# 步长值为负数，则切片操作从右往左提取元素\n",
    "\n",
    "print(numbers[::-1])  # 倒序输出十个数字，省略左右索引\n",
    "\n",
    "print(numbers[::-2])  # 倒序输出所有偶数，省略左右索引\n",
    "\n",
    "print(numbers[-2::-2])  # 倒序输出所有奇数，省略右索引"
   ]
  },
  {
   "cell_type": "markdown",
   "metadata": {},
   "source": [
    "<div style=\"font-family:STKaiti;font-size:24px;font-weight:Bold;color:black\">\n",
    "(三)序列拼接\n",
    "</div>"
   ]
  },
  {
   "cell_type": "markdown",
   "metadata": {},
   "source": [
    "<div style=\"font-family:STKaiti;font-size:22px;line-height:2\">\n",
    "可使用加法符号将相同的序列类型进行拼接：\n",
    "</div>"
   ]
  },
  {
   "cell_type": "code",
   "execution_count": null,
   "metadata": {},
   "outputs": [],
   "source": [
    "print('hello ' + 'world!')  # 拼接字符串\n",
    "\n",
    "print([1,2,3] + [4,5,6])  # 拼接列表\n",
    "\n",
    "print((1,2,3,4) + (5,6,7,8))  # 拼接元组"
   ]
  },
  {
   "cell_type": "code",
   "execution_count": null,
   "metadata": {},
   "outputs": [],
   "source": [
    "print('hello' + [1,2,3])"
   ]
  },
  {
   "cell_type": "markdown",
   "metadata": {},
   "source": [
    "<div style=\"font-family:STKaiti;font-size:24px;font-weight:Bold;color:black\">\n",
    "(四)序列重复\n",
    "</div>"
   ]
  },
  {
   "cell_type": "markdown",
   "metadata": {},
   "source": [
    "<div style=\"font-family:STKaiti;font-size:22px;line-height:2\">\n",
    "要对一个序列进行重复时，我们就用这个序列乘以想要重复的次数\n",
    "</div>"
   ]
  },
  {
   "cell_type": "code",
   "execution_count": null,
   "metadata": {},
   "outputs": [],
   "source": [
    "# 使用乘法符号对序列进行重复\n",
    "\n",
    "print('python is wonderful! ' * 3)  # 将字符串重复三次\n",
    "\n",
    "print([0] * 10)  # 将列表重复十次\n",
    "\n",
    "print((21,) * 5)  # 将元组重复五次，单元素元组需要加上逗号\n",
    "\n",
    "print([None] * 10)  # 输出一个空值列表"
   ]
  },
  {
   "cell_type": "markdown",
   "metadata": {},
   "source": [
    "<div style=\"font-family:STKaiti;font-size:24px;font-weight:Bold;color:black\">\n",
    "(五)成员运算符\n",
    "</div>"
   ]
  },
  {
   "cell_type": "markdown",
   "metadata": {},
   "source": [
    "<div style=\"font-family:STKaiti;font-size:22px;line-height:2\">\n",
    "成员运算符可以检查序列是否包含某个特定的元素\n",
    "</div>"
   ]
  },
  {
   "cell_type": "code",
   "execution_count": null,
   "metadata": {},
   "outputs": [],
   "source": [
    "num = 3\n",
    "\n",
    "print(num in [1,2,3])  # 检查列表中是否包含数字三\n",
    "\n",
    "print(num in (4,5,6))  # 检查元组中是否包含数字三"
   ]
  },
  {
   "cell_type": "markdown",
   "metadata": {},
   "source": [
    "<div style=\"font-family:STKaiti;font-size:24px;font-weight:Bold;color:black\">\n",
    "(六)常用序列函数\n",
    "</div>"
   ]
  },
  {
   "cell_type": "markdown",
   "metadata": {},
   "source": [
    "<div style=\"font-family:STKaiti;font-size:22px;line-height:2\">\n",
    "python语言中处理序列的常用内建函数主要有四个，分别是计算序列元素个数的len函数、计算序列中最大值的max函数、计算序列中最小值的min函数，以及计算序列元素之和的sum函数(仅元素都为数字时可用)\n",
    "</div>"
   ]
  },
  {
   "cell_type": "markdown",
   "metadata": {},
   "source": [
    "<div style=\"font-family:STKaiti;font-size:22px;font-weight:Bold;color:blue\">\n",
    "1.len函数\n",
    "</div>"
   ]
  },
  {
   "cell_type": "code",
   "execution_count": null,
   "metadata": {},
   "outputs": [],
   "source": [
    "# len函数可计算序列中元素的个数\n",
    "\n",
    "print(len('hello'))  # 计算字符串的元素个数\n",
    "\n",
    "print(len([1,2,3,4,5]))  # 计算列表的元素个数\n",
    "\n",
    "print(len(('Jim Green',23,'male')))  # 计算元组的元素个数"
   ]
  },
  {
   "cell_type": "markdown",
   "metadata": {},
   "source": [
    "<div style=\"font-family:STKaiti;font-size:22px;font-weight:Bold;color:blue\">\n",
    "2.max函数\n",
    "</div>"
   ]
  },
  {
   "cell_type": "markdown",
   "metadata": {},
   "source": [
    "<div style=\"font-family:STKaiti;font-size:22px;line-height:2\">\n",
    "max函数可以计算序列中的最大值,字符之间的比较根据字符对应的编码数大小来确定，常见ASCII码的大小规则为数字0~9小于大写字母A~Z小于小写字母a~z。英文字符对应ASCII码可参见：https://baike.baidu.com/item/ASCII \n",
    "</div>"
   ]
  },
  {
   "cell_type": "code",
   "execution_count": null,
   "metadata": {},
   "outputs": [],
   "source": [
    "# max 函数可以计算序列中最大值\n",
    "\n",
    "print(max([4,5,3,9,0]))  # 返回列表中的最大元素\n",
    "\n",
    "print(max((11,20,7)))  # 返回元组中的最大元素\n",
    "\n",
    "print(max('hello'))  # 返回字符串中的最大元素\n",
    "\n",
    "print(max('a','A'))  # 小写字母对应的ASCII码大于大写字母对应的ASCII码，所以a > A"
   ]
  },
  {
   "cell_type": "markdown",
   "metadata": {},
   "source": [
    "<div style=\"font-family:STKaiti;font-size:22px;font-weight:Bold;color:blue\">\n",
    "3.min函数\n",
    "</div>"
   ]
  },
  {
   "cell_type": "code",
   "execution_count": null,
   "metadata": {},
   "outputs": [],
   "source": [
    "print(min([4,5,3,9,0]))  # 返回列表中的最大元素\n",
    "\n",
    "print(min((11,20,7)))  # 返回元组中的最大元素\n",
    "\n",
    "print(min('hello'))  # 返回字符串中的最大元素"
   ]
  },
  {
   "cell_type": "markdown",
   "metadata": {},
   "source": [
    "<div style=\"font-family:STKaiti;font-size:22px;font-weight:Bold;color:blue\">\n",
    "4.sum函数\n",
    "</div>"
   ]
  },
  {
   "cell_type": "code",
   "execution_count": null,
   "metadata": {},
   "outputs": [],
   "source": [
    "# sum函数可计算序列元素之和(仅元素都为数字时可用)\n",
    "\n",
    "print(sum([1,2,3,4,5]))  # 计算列表元素之和\n",
    "\n",
    "print(sum((1,2,3,4,5,6)))  # 计算元组元素之和"
   ]
  },
  {
   "cell_type": "markdown",
   "metadata": {},
   "source": [
    "<div style=\"font-family:STKaiti;font-size:26px;font-weight:Bold;color:black\">\n",
    "    <u> 三、列表 </u>\n",
    "</div>"
   ]
  },
  {
   "cell_type": "markdown",
   "metadata": {},
   "source": [
    "<div style=\"font-family:STKaiti;font-size:24px;font-weight:Bold;color:black\">\n",
    "(一)list函数\n",
    "</div>"
   ]
  },
  {
   "cell_type": "markdown",
   "metadata": {},
   "source": [
    "<div style=\"font-family:STKaiti;font-size:22px;line-height:2\">\n",
    "list函数可以把其它序列转化为列表，从而可以使用列表的方法加以处理\n",
    "</div>"
   ]
  },
  {
   "cell_type": "code",
   "execution_count": null,
   "metadata": {},
   "outputs": [],
   "source": [
    "string = 'abcde'\n",
    "\n",
    "my_tuple = ('taylor swifth', 30, 'female')\n",
    "\n",
    "print(list(string))  # 将字符串转化为列表\n",
    "\n",
    "print(list(my_tuple))  # 将元组转化为列表"
   ]
  },
  {
   "cell_type": "markdown",
   "metadata": {},
   "source": [
    "<div style=\"font-family:STKaiti;font-size:24px;font-weight:Bold;color:black\">\n",
    "(二)常用列表操作\n",
    "</div>"
   ]
  },
  {
   "cell_type": "code",
   "execution_count": null,
   "metadata": {},
   "outputs": [],
   "source": [
    "# 元素赋值\n",
    "\n",
    "names = ['Thomas Edison','Henry Ford','Albert Einstein','Richard Feynman']\n",
    "\n",
    "names[1] = 'Issac Newton'\n",
    "\n",
    "print(names)"
   ]
  },
  {
   "cell_type": "code",
   "execution_count": null,
   "metadata": {},
   "outputs": [],
   "source": [
    "# 删除元素\n",
    "\n",
    "del names[1]\n",
    "\n",
    "print(names)"
   ]
  },
  {
   "cell_type": "markdown",
   "metadata": {},
   "source": [
    "<div style=\"font-family:STKaiti;font-size:24px;font-weight:Bold;color:black\">\n",
    "(三)常用列表方法\n",
    "</div>"
   ]
  },
  {
   "cell_type": "markdown",
   "metadata": {},
   "source": [
    "<div style=\"font-family:STKaiti;font-size:22px;font-weight:Bold;color:blue\">\n",
    "1.append方法\n",
    "</div>"
   ]
  },
  {
   "cell_type": "code",
   "execution_count": null,
   "metadata": {},
   "outputs": [],
   "source": [
    "# append()方法用于在列表末尾添加新的对象\n",
    "\n",
    "president_names = ['Bill Clinton','George Bush','Barack Obama']\n",
    "\n",
    "president_names.append('Donald Trump')\n",
    "\n",
    "print(president_names)"
   ]
  },
  {
   "cell_type": "markdown",
   "metadata": {},
   "source": [
    "<div style=\"font-family:STKaiti;font-size:22px;font-weight:Bold;color:blue\">\n",
    "2.count方法\n",
    "</div>"
   ]
  },
  {
   "cell_type": "code",
   "execution_count": null,
   "metadata": {},
   "outputs": [],
   "source": [
    "# count()方法用于统计某个元素在列表中出现的次数\n",
    "\n",
    "quote = ['to','be','or','not','to','be']\n",
    "\n",
    "print(quote.count(\"to\"))"
   ]
  },
  {
   "cell_type": "markdown",
   "metadata": {},
   "source": [
    "<div style=\"font-family:STKaiti;font-size:22px;font-weight:Bold;color:blue\">\n",
    "3.extend方法\n",
    "</div>"
   ]
  },
  {
   "cell_type": "code",
   "execution_count": null,
   "metadata": {},
   "outputs": [],
   "source": [
    "# extend()方法用于在列表的末尾一次性追加另一个序列中的多个值\n",
    "\n",
    "old_list = [1,2,3]\n",
    "\n",
    "new_list = [4,5,6]\n",
    "\n",
    "old_list.extend(new_list)  # extend()方法会修改原来列表的值\n",
    "\n",
    "print(old_list)\n",
    "\n",
    "# 列表的拼接也可以扩展原列表，但不会修改原列表的值\n",
    "\n",
    "old_list = [1,2,3]\n",
    "\n",
    "new_list = [4,5,6]\n",
    "\n",
    "result = old_list + new_list\n",
    "\n",
    "print(old_list)"
   ]
  },
  {
   "cell_type": "markdown",
   "metadata": {},
   "source": [
    "<div style=\"font-family:STKaiti;font-size:22px;font-weight:Bold;color:blue\">\n",
    "4.index方法\n",
    "</div>"
   ]
  },
  {
   "cell_type": "code",
   "execution_count": null,
   "metadata": {},
   "outputs": [],
   "source": [
    "# index(value, start=0, stop=9223372036854775807)方法从列表中找出某个值第一个匹配项的索引位置\n",
    "\n",
    "quote = ['to','be','or','not','to','be']\n",
    "\n",
    "print(quote.index('be'))  # 返回第一个匹配项的索引位置\n",
    "\n",
    "print(quote.index('be',2))  # 指定开始查找的位置\n",
    "\n",
    "print(quote.index('is'))  # 如果没有找到匹配项，则会抛出异常"
   ]
  },
  {
   "cell_type": "markdown",
   "metadata": {},
   "source": [
    "<div style=\"font-family:STKaiti;font-size:22px;font-weight:Bold;color:blue\">\n",
    "5.insert方法\n",
    "</div>"
   ]
  },
  {
   "cell_type": "code",
   "execution_count": null,
   "metadata": {},
   "outputs": [],
   "source": [
    "# insert(index, object)方法用于把对象插入列表中指定的位置\n",
    "\n",
    "numbers = [1,2,3,5,6]\n",
    "\n",
    "numbers.insert(3,'four')\n",
    "\n",
    "print(numbers)"
   ]
  },
  {
   "cell_type": "markdown",
   "metadata": {},
   "source": [
    "<div style=\"font-family:STKaiti;font-size:22px;font-weight:Bold;color:blue\">\n",
    "6.pop方法\n",
    "</div>"
   ]
  },
  {
   "cell_type": "code",
   "execution_count": null,
   "metadata": {},
   "outputs": [],
   "source": [
    "# pop(index=-1)用于移除列表中的一个元素（默认是最后一个元素），并且返回该元素的值\n",
    "\n",
    "number_list = [1,2,3,4,5]\n",
    "\n",
    "value1 = number_list.pop()  # 默认移除列表最后一个元素，并返回该元素的值\n",
    "\n",
    "print(value1)\n",
    "\n",
    "print(number_list)\n",
    "\n",
    "# 移动列表指定位置的值\n",
    "\n",
    "value2 = number_list.pop(1)\n",
    "\n",
    "print(value2)\n",
    "\n",
    "print(number_list)"
   ]
  },
  {
   "cell_type": "markdown",
   "metadata": {},
   "source": [
    "<div style=\"font-family:STKaiti;font-size:22px;font-weight:Bold;color:blue\">\n",
    "7.remove方法\n",
    "</div>"
   ]
  },
  {
   "cell_type": "code",
   "execution_count": null,
   "metadata": {},
   "outputs": [],
   "source": [
    "# remove(value)方法用于移除列表中某个值的第一个匹配项\n",
    "\n",
    "quote = ['to','be','or','not','to','be']\n",
    "\n",
    "quote.remove('be')\n",
    "\n",
    "print(quote)\n",
    "\n",
    "quote.remove('is')"
   ]
  },
  {
   "cell_type": "markdown",
   "metadata": {},
   "source": [
    "<div style=\"font-family:STKaiti;font-size:22px;font-weight:Bold;color:blue\">\n",
    "8.reverse方法\n",
    "</div>"
   ]
  },
  {
   "cell_type": "code",
   "execution_count": null,
   "metadata": {},
   "outputs": [],
   "source": [
    "# reverse()方法用于对列表中的元素进行反向排序\n",
    "\n",
    "numbers = [1,2,3,4,5,6]\n",
    "\n",
    "numbers.reverse()\n",
    "\n",
    "print(numbers)"
   ]
  },
  {
   "cell_type": "markdown",
   "metadata": {},
   "source": [
    "<div style=\"font-family:STKaiti;font-size:22px;font-weight:Bold;color:blue\">\n",
    "9.sort方法\n",
    "</div>"
   ]
  },
  {
   "cell_type": "code",
   "execution_count": null,
   "metadata": {},
   "outputs": [],
   "source": [
    "# sort(*, key=None, reverse=False)方法对列表元素进行排序\n",
    "\n",
    "random_numbers = [86, 91, 45, 71, 92, 66]\n",
    "\n",
    "random_numbers.sort()  # 默认为升序排列\n",
    "\n",
    "print(random_numbers)\n",
    "\n",
    "random_numbers.sort(reverse=True)  # 指定为降序排列\n",
    "\n",
    "print(random_numbers)"
   ]
  },
  {
   "cell_type": "code",
   "execution_count": null,
   "metadata": {},
   "outputs": [],
   "source": [
    "fruit = ['apple','pear','watermelon','banana']\n",
    "\n",
    "fruit.sort()  # 使用默认的排序规则排序(单词首字母)\n",
    "\n",
    "print(fruit)\n",
    "\n",
    "fruit.sort(key=len)  # 根据单词的长度排序\n",
    "\n",
    "print(fruit)"
   ]
  },
  {
   "cell_type": "code",
   "execution_count": null,
   "metadata": {},
   "outputs": [],
   "source": [
    "random_numbers = [86, 91, 45, 71, 92, 66]\n",
    "\n",
    "new_numbers = sorted(random_numbers)\n",
    "\n",
    "print(random_numbers)\n",
    "\n",
    "print(new_numbers)"
   ]
  },
  {
   "cell_type": "markdown",
   "metadata": {},
   "source": [
    "<div style=\"font-family:STKaiti;font-size:26px;font-weight:Bold;color:black\">\n",
    "    <u> 四、上节课练习答案 </u>\n",
    "</div>"
   ]
  },
  {
   "cell_type": "markdown",
   "metadata": {},
   "source": [
    "<div style=\"font-family:STKaiti;font-size:22px;line-height:2\">\n",
    "(1) 调用内置函数pow计算2的30次方,使用help函数查看它的帮助说明。\n",
    "</div>"
   ]
  },
  {
   "cell_type": "code",
   "execution_count": null,
   "metadata": {},
   "outputs": [],
   "source": [
    "help(pow)"
   ]
  },
  {
   "cell_type": "code",
   "execution_count": null,
   "metadata": {},
   "outputs": [],
   "source": [
    "pow(2,30)"
   ]
  },
  {
   "cell_type": "markdown",
   "metadata": {},
   "source": [
    "<div style=\"font-family:STKaiti;font-size:22px;line-height:2\">\n",
    "(2) Guido Van Rossum现年64岁，性别男，国籍为荷兰,命名四个变量分别存储他的姓名、年龄、性别和国籍信息，并为这四个变量赋值。\n",
    "</div>"
   ]
  },
  {
   "cell_type": "code",
   "execution_count": null,
   "metadata": {},
   "outputs": [],
   "source": [
    "name = 'Guido Van Rossum'\n",
    "\n",
    "age = 64\n",
    "\n",
    "gender = 'male'\n",
    "\n",
    "nationality = 'Netherlands'"
   ]
  },
  {
   "cell_type": "markdown",
   "metadata": {},
   "source": [
    "<div style=\"font-family:STKaiti;font-size:22px;line-height:2\">\n",
    "(3) 计算$\\left( 199-120 \\right) ^4+52^2\\times \\left( 23-120\\div 24 \\right) \\%3$\n",
    "</div>"
   ]
  },
  {
   "cell_type": "code",
   "execution_count": null,
   "metadata": {},
   "outputs": [],
   "source": [
    "(199-120)**4 + 52**2 * (23 - 120/24) % 3"
   ]
  },
  {
   "cell_type": "markdown",
   "metadata": {},
   "source": [
    "<div style=\"font-family:STKaiti;font-size:22px;line-height:2\">\n",
    "(4) 对于短语 <strong><em>cogito,ergo sum</em></strong>，分别使用正向与反向索引输出最后一个单词。 \n",
    "</div>"
   ]
  },
  {
   "cell_type": "code",
   "execution_count": null,
   "metadata": {},
   "outputs": [],
   "source": [
    "phrase = 'cogito,ergo sum'\n",
    "\n",
    "print(phrase[12:])\n",
    "\n",
    "print(phrase[-3:])"
   ]
  },
  {
   "cell_type": "markdown",
   "metadata": {},
   "source": [
    "<div style=\"font-family:STKaiti;font-size:22px;line-height:2\">\n",
    "<p>(5) 对以下字符串进行格式化(方括号表示需要填入值的位置，需要填入的值见注释)：</p>\n",
    "<blockquote><p>In December [], Van Rossum had been looking for a hobby programming project that would keep him occupied during the week around Christmas as his office was closed when he decided to write an interpreter for a new []. He attributes choosing the name &quot;Python&quot; to being in a slightly irreverent mood (and a big fan of []).</p>\n",
    "</blockquote>\n",
    "\n",
    "</div>"
   ]
  },
  {
   "cell_type": "code",
   "execution_count": null,
   "metadata": {},
   "outputs": [],
   "source": [
    "# 需要填入的值依次为 1989，scripting language，Monty Python's Flying Circus\n",
    "\n",
    "string = '''In December %d, Van Rossum had been looking for a hobby programming project that would \n",
    "keep him occupied during the week around Christmas as his office was closed when he decided to \n",
    "write an interpreter for a new %s. He attributes choosing the name \"Python\" to being in a slightly \n",
    "irreverent mood (and a big fan of %s)'''\n",
    "\n",
    "values = (1989,'scripting language',\"Monty Python's Flying Circus\")\n",
    "\n",
    "print(string % values)"
   ]
  },
  {
   "cell_type": "markdown",
   "metadata": {},
   "source": [
    "<div style=\"font-family:STKaiti;font-size:22px;line-height:2\">\n",
    "<p>(6)计算以下字符串中字母o出现的次数，并将其替换为大写字母，然后以其为分隔符把整个字符串进行分割：</p>\n",
    "<blockquote><p>Python is an interpreted, high-level, general-purpose programming language. </p>\n",
    "</blockquote>\n",
    "\n",
    "</div>"
   ]
  },
  {
   "cell_type": "code",
   "execution_count": null,
   "metadata": {},
   "outputs": [],
   "source": [
    "intro = 'Python is an interpreted, high-level, general-purpose programming language.'"
   ]
  },
  {
   "cell_type": "code",
   "execution_count": null,
   "metadata": {},
   "outputs": [],
   "source": [
    "intro.count('o')"
   ]
  },
  {
   "cell_type": "code",
   "execution_count": null,
   "metadata": {},
   "outputs": [],
   "source": [
    "intro.replace('o','O')"
   ]
  },
  {
   "cell_type": "code",
   "execution_count": null,
   "metadata": {},
   "outputs": [],
   "source": [
    "intro.split('o')"
   ]
  },
  {
   "cell_type": "markdown",
   "metadata": {},
   "source": [
    "<div style=\"font-family:STKaiti;font-size:26px;font-weight:Bold;color:black\">\n",
    "    <u> 五、练习 </u>\n",
    "</div>"
   ]
  },
  {
   "cell_type": "markdown",
   "metadata": {},
   "source": [
    "<div style=\"font-family:STKaiti;font-size:22px;font-weight:Bold;color:blue\">\n",
    "1.数列$a_n=3n+2(a_1=2)$，列出该数列小于等于20的所有项，并计算所有项的和。\n",
    "</div>"
   ]
  },
  {
   "cell_type": "code",
   "execution_count": null,
   "metadata": {},
   "outputs": [],
   "source": []
  },
  {
   "cell_type": "markdown",
   "metadata": {},
   "source": [
    "<div style=\"font-family:STKaiti;font-size:22px;font-weight:Bold;color:blue\">\n",
    "2.移除以下列表的最后一项，然后求它的最小值与最大值，并将其按降序排列。\n",
    "</div>"
   ]
  },
  {
   "cell_type": "code",
   "execution_count": null,
   "metadata": {},
   "outputs": [],
   "source": [
    "numbers = [78, 21, 64, 44, 54, 76, 85, 15, 21, 36, 37]"
   ]
  },
  {
   "cell_type": "markdown",
   "metadata": {},
   "source": [
    "<div style=\"font-family:STKaiti;font-size:22px;font-weight:Bold;color:blue\">\n",
    "3.在以下嵌套列表中列出了三位名人的姓名与生卒年份，请输出Gauss出生的年份。\n",
    "</div>"
   ]
  },
  {
   "cell_type": "code",
   "execution_count": null,
   "metadata": {},
   "outputs": [],
   "source": [
    "info = [('Euler',(1707,1783)),('Gauss',(1777,1855)),('Newton',(1643,1727))]"
   ]
  }
 ],
 "metadata": {
  "kernelspec": {
   "display_name": "Python 3",
   "language": "python",
   "name": "python3"
  },
  "language_info": {
   "codemirror_mode": {
    "name": "ipython",
    "version": 3
   },
   "file_extension": ".py",
   "mimetype": "text/x-python",
   "name": "python",
   "nbconvert_exporter": "python",
   "pygments_lexer": "ipython3",
   "version": "3.7.6"
  }
 },
 "nbformat": 4,
 "nbformat_minor": 4
}
