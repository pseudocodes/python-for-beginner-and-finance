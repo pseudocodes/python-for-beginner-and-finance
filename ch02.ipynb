{
 "cells": [
  {
   "cell_type": "markdown",
   "metadata": {},
   "source": [
    "<div align=\"right\" style=\"text-align:right;\">\n",
    "        <a href=\"https://metaquant.org/\">\n",
    "                <img style=\"width:400px;display:inline;\" width=\"400px\" src=\"https://images-1252829441.cos.ap-guangzhou.myqcloud.com/img/20200511155258.png\">\n",
    "        </a>\n",
    "</div>"
   ]
  },
  {
   "cell_type": "markdown",
   "metadata": {},
   "source": [
    "<div style=\"font-family:STKaiti;font-size:28px;font-weight:Bold;color:green;\">\n",
    "第二讲：基础语法与基本数据类型\n",
    "</div>"
   ]
  },
  {
   "cell_type": "markdown",
   "metadata": {},
   "source": [
    "<div style=\"font-family:STKaiti;font-size:22px;line-height:2\">\n",
    "\n",
    "<ul>\n",
    "<li><p>基础语法</p>\n",
    "<ul>\n",
    "<li>注释</li>\n",
    "<li>变量</li>\n",
    "<li>函数</li>\n",
    "\n",
    "</ul>\n",
    "</li>\n",
    "<li><p>基本数据类型</p>\n",
    "<ul>\n",
    "<li>数字</li>\n",
    "<li>字符串</li>\n",
    "\n",
    "</ul>\n",
    "</li>\n",
    "\n",
    "</ul>\n",
    "\n",
    "\n",
    "</div>"
   ]
  },
  {
   "cell_type": "markdown",
   "metadata": {},
   "source": [
    "<div style=\"font-family:STKaiti;font-size:26px;font-weight:Bold;color:black\">\n",
    "    <u> 一、基础语法 </u>\n",
    "</div>"
   ]
  },
  {
   "cell_type": "markdown",
   "metadata": {},
   "source": [
    "<div style=\"font-family:STKaiti;font-size:24px;font-weight:Bold;color:black\">\n",
    "(一)注释\n",
    "</div>"
   ]
  },
  {
   "cell_type": "markdown",
   "metadata": {},
   "source": [
    "<div style=\"font-family:STKaiti;font-size:22px;line-height:2\">\n",
    "Python中的注释分为两种，分别是单行注释和多行注释。\n",
    "\n",
    "</div>"
   ]
  },
  {
   "cell_type": "code",
   "execution_count": null,
   "metadata": {},
   "outputs": [],
   "source": [
    "# 这是一个单行注释\n",
    "\n",
    "'''\n",
    "这是多行注释，用三个单引号\n",
    "这是多行注释，用三个单引号 \n",
    "这是多行注释，用三个单引号\n",
    "'''\n",
    "\n",
    "\"\"\"\n",
    "这是多行注释，用三个双引号\n",
    "这是多行注释，用三个双引号 \n",
    "这是多行注释，用三个双引号\n",
    "\"\"\""
   ]
  },
  {
   "cell_type": "markdown",
   "metadata": {},
   "source": [
    "<div style=\"font-family:STKaiti;font-size:24px;font-weight:Bold;color:black\">\n",
    "(二)变量\n",
    "</div>"
   ]
  },
  {
   "cell_type": "markdown",
   "metadata": {},
   "source": [
    "<div style=\"font-family:STKaiti;font-size:22px;line-height:2\">\n",
    "Python中变量的命名需要遵循一定的规则，违反这些规则就会引发错误。这些规则主要有三个：第一，变量名只能包含字母、数字与下划线，变量名可以字母或下划线打头，但不能以数字打头；第二，变量名不能包含空格，但可使用下划线来分隔其中的单词；第三，不要将 Python 关键字和内置函数名用作变量名(python3中的关键字列表参见https://www.w3school.com.cn/python/python_ref_keywords.asp ，内置函数列表参见https://docs.python.org/zh-cn/3/library/functions.html)。\n",
    "\n",
    "</div>"
   ]
  },
  {
   "cell_type": "code",
   "execution_count": null,
   "metadata": {},
   "outputs": [],
   "source": [
    "# 正确的命名\n",
    "\n",
    "message = \"hello world!\"\n",
    "\n",
    "message123 = \"hello world 123!\"\n",
    "\n",
    "message_1 = \"hello world 1!\"\n",
    "\n",
    "# 错误的命名\n",
    "\n",
    "1_message # 数字不能打头\n",
    "\n",
    "message one  # 变量名中不能有空格\n",
    "\n",
    "print = 3  # 不能用内置函数做为变量名\n",
    "\n",
    "# 不好的命名\n",
    "\n",
    "a = 3  # 变量名没有描述性，不知道变量代表什么\n",
    "\n",
    "StudentName = 'Jim Green' # 不建议在python语言中使用驼峰命名法,应为student_name\n"
   ]
  },
  {
   "cell_type": "markdown",
   "metadata": {},
   "source": [
    "<div style=\"font-family:STKaiti;font-size:22px;line-height:2\">\n",
    "在确定变量名后，需要对其进行初始化，也就是赋值：\n",
    "</div>"
   ]
  },
  {
   "cell_type": "code",
   "execution_count": null,
   "metadata": {},
   "outputs": [],
   "source": [
    "# 赋值操作,可以将任何python语言允许的数据类型赋值给变量\n",
    "\n",
    "name = 'Jim Green'\n",
    "\n",
    "age = 34\n",
    "\n",
    "gender = 'male'\n",
    "\n",
    "# python中的赋值语句用“=”来表示，这里的等号并不表示相等关系\n",
    "\n",
    "x = 10\n",
    "\n",
    "x = x + 5\n",
    "\n",
    "# python中可以在一行语句中为多个变量赋值\n",
    "\n",
    "name, age, gender = 'Jim Green', 34, 'male'\n"
   ]
  },
  {
   "cell_type": "markdown",
   "metadata": {},
   "source": [
    "<div style=\"font-family:STKaiti;font-size:24px;font-weight:Bold;color:black\">\n",
    "(三)函数\n",
    "</div>"
   ]
  },
  {
   "cell_type": "markdown",
   "metadata": {},
   "source": [
    "<div style=\"font-family:STKaiti;font-size:22px;line-height:2\">\n",
    "要调用一个函数，我们需要知道函数的名称和参数。\n",
    "</div>"
   ]
  },
  {
   "cell_type": "code",
   "execution_count": null,
   "metadata": {},
   "outputs": [],
   "source": [
    "help(round)  # 使用help命令可以查看函数的帮助信息"
   ]
  },
  {
   "cell_type": "code",
   "execution_count": null,
   "metadata": {},
   "outputs": [],
   "source": [
    "round(3.1415926,3)  # 调用round函数，保留三位小数"
   ]
  },
  {
   "cell_type": "code",
   "execution_count": null,
   "metadata": {},
   "outputs": [],
   "source": [
    "help(print)  # 查看print函数的帮助信息"
   ]
  },
  {
   "cell_type": "code",
   "execution_count": null,
   "metadata": {},
   "outputs": [],
   "source": [
    "print('hello','world!','\\n')  # 使用print打印多个对象\n",
    "\n",
    "print('java','python','javascript','perl',sep='\\n')  # 打印多个对象，对象之间用插入换行符"
   ]
  },
  {
   "cell_type": "markdown",
   "metadata": {},
   "source": [
    "<div style=\"font-family:STKaiti;font-size:26px;font-weight:Bold;color:black\">\n",
    "    <u> 二、基本数据类型 </u>\n",
    "</div>"
   ]
  },
  {
   "cell_type": "markdown",
   "metadata": {},
   "source": [
    "<div style=\"font-family:STKaiti;font-size:22px;line-height:2\">\n",
    "Python 3中有六大基本数据类型，分别是number(数字)、string(字符串)，list(列表)，tuple(元组)，set(集合)以及dictionary(字典)：\n",
    "</div>"
   ]
  },
  {
   "cell_type": "markdown",
   "metadata": {},
   "source": [
    "<div style=\"font-family:STKaiti;font-size:24px;font-weight:Bold;color:black\">\n",
    "(一)数字\n",
    "</div>"
   ]
  },
  {
   "cell_type": "markdown",
   "metadata": {},
   "source": [
    "<div style=\"font-family:STKaiti;font-size:22px;font-weight:Bold;color:blue\">\n",
    "1.整数(int)\n",
    "</div>"
   ]
  },
  {
   "cell_type": "code",
   "execution_count": null,
   "metadata": {},
   "outputs": [],
   "source": [
    "# int(整数)\n",
    "\n",
    "positive_integer = 123\n",
    "\n",
    "negative_integer = -268\n",
    "\n",
    "# 整数运算\n",
    "\n",
    "a, b, c = 3, 4, 5\n",
    "\n",
    "print((a+b, a-b, a*b, a/b, a//b, a**b, c%a)) # 从左往右依次为加、减、乘、除、整除、乘方及取余运算"
   ]
  },
  {
   "cell_type": "code",
   "execution_count": null,
   "metadata": {},
   "outputs": [],
   "source": [
    "# 运算优先级: 括号 > 乘方 > 乘、除、整除、取余 > 加、减\n",
    "\n",
    "print(c**a / b) # 乘方先于除法\n",
    "\n",
    "print(c*a - b) # 乘法先于减法\n",
    "\n",
    "print(b%a + c) # 取余先于加法"
   ]
  },
  {
   "cell_type": "code",
   "execution_count": null,
   "metadata": {},
   "outputs": [],
   "source": [
    "# 比较运算符\n",
    "\n",
    "print(a == b) # 判断a是否等于b, 结果为False\n",
    "\n",
    "print(a != b) # 判断a是否不等于b, 结果为True\n",
    "\n",
    "print(a > b) # 判断a是否大于b, 结果为False\n",
    "\n",
    "print(a < b) # 判断a是否小于b, 结果为True\n",
    "\n",
    "print(a >= b) # 判断a是否大于等于b, 结果为False\n",
    "\n",
    "print(a <= b) # 判断a是否小于等于b, 结果为True"
   ]
  },
  {
   "cell_type": "markdown",
   "metadata": {},
   "source": [
    "<div style=\"font-family:STKaiti;font-size:22px;font-weight:Bold;color:blue\">\n",
    "2.浮点数(float)\n",
    "</div>"
   ]
  },
  {
   "cell_type": "code",
   "execution_count": null,
   "metadata": {},
   "outputs": [],
   "source": [
    "# float(浮点数)\n",
    "\n",
    "f, g = 3.6, 1.2\n",
    "\n",
    "print(f+g, f-g, f*g, f/g) "
   ]
  },
  {
   "cell_type": "code",
   "execution_count": null,
   "metadata": {},
   "outputs": [],
   "source": [
    "# 科学计数法\n",
    "\n",
    "156000000 == 1.56e8  # 1.56亿可用1.56*10^8表示"
   ]
  },
  {
   "cell_type": "code",
   "execution_count": null,
   "metadata": {},
   "outputs": [],
   "source": [
    "# int()函数将浮点数转化整数，float()函数将整数转化为浮点数\n",
    "\n",
    "print(int(3.65))  # 将3.65转化为整数，去掉小数部分即为3\n",
    "\n",
    "print(float(21))  # 将21转化为浮点数"
   ]
  },
  {
   "cell_type": "markdown",
   "metadata": {},
   "source": [
    "<div style=\"font-family:STKaiti;font-size:22px;font-weight:Bold;color:blue\">\n",
    "3.布尔值(bool)\n",
    "</div>"
   ]
  },
  {
   "cell_type": "code",
   "execution_count": null,
   "metadata": {},
   "outputs": [],
   "source": [
    "# 布尔值和数字一起进行运算\n",
    "\n",
    "print(True + 1, False + 1)  # 结果为2，1"
   ]
  },
  {
   "cell_type": "code",
   "execution_count": null,
   "metadata": {},
   "outputs": [],
   "source": [
    "# 三个逻辑运算符分别为与运算(and)，或运算(or)和非运算(not)\n",
    "\n",
    "print(True and True, True and False)  # and运算符两者都为True则结果为True，否则为False\n",
    "\n",
    "print(True or True, True or False)  # or运算符两者任一为True则结果为True\n",
    "\n",
    "print(not True, not False)  # not运算符可以把True变成False,把False变成True"
   ]
  },
  {
   "cell_type": "markdown",
   "metadata": {},
   "source": [
    "<div style=\"font-family:STKaiti;font-size:22px;font-weight:Bold;color:blue\">\n",
    "4.复数(complex)\n",
    "</div>"
   ]
  },
  {
   "cell_type": "markdown",
   "metadata": {},
   "source": [
    "<div style=\"font-family:STKaiti;font-size:22px;line-height:2\">\n",
    "复数包含一个实部与虚部，一般的形式是$a+bi$，其中$a$表示实部，$b$表示虚部，这里的$a$和$b$都是实数。\n",
    "</div>"
   ]
  },
  {
   "cell_type": "code",
   "execution_count": null,
   "metadata": {},
   "outputs": [],
   "source": [
    "m = 1 + 2j  # python中复数的一般形式是 a + bj, 把 i 换成了 j\n",
    "\n",
    "# 打印复数的实部与虚部\n",
    "\n",
    "print(m.real,m.imag)  # real属性表示复数的实部，image属性实数的虚部"
   ]
  },
  {
   "cell_type": "markdown",
   "metadata": {},
   "source": [
    "<div style=\"font-family:STKaiti;font-size:24px;font-weight:Bold;color:black\">\n",
    "(二)字符串\n",
    "</div>"
   ]
  },
  {
   "cell_type": "markdown",
   "metadata": {},
   "source": [
    "<div style=\"font-family:STKaiti;font-size:22px;line-height:2\">\n",
    "在python中，字符串需要用引号括起来，既可以是单引号也可以是双引号，我们还可以使用加号和乘号对字符串进行拼接和重复。\n",
    "</div>"
   ]
  },
  {
   "cell_type": "code",
   "execution_count": null,
   "metadata": {},
   "outputs": [],
   "source": [
    "boy_name = 'Bruce'  # 使用单引号表示字符串\n",
    "\n",
    "girl_name = \"Lucy\"  # 使用双引号表示字符串\n",
    "\n",
    "intro = \"I'm Bruce Lee\" # 使用双引号可以在英文字符串中包含撇号"
   ]
  },
  {
   "cell_type": "code",
   "execution_count": null,
   "metadata": {},
   "outputs": [],
   "source": [
    "# 使用加号对字符串进行拼接\n",
    "\n",
    "first_name = 'Will'\n",
    "\n",
    "last_name = 'Smith'\n",
    "\n",
    "full_name = first_name + ' ' + last_name\n",
    "\n",
    "print(full_name)"
   ]
  },
  {
   "cell_type": "code",
   "execution_count": null,
   "metadata": {},
   "outputs": [],
   "source": [
    "# 使用乘号将同一字符串重复多次\n",
    "\n",
    "confession = \"I love python! \"\n",
    "\n",
    "print(confession * 3)"
   ]
  },
  {
   "cell_type": "markdown",
   "metadata": {},
   "source": [
    "<div style=\"font-family:STKaiti;font-size:22px;line-height:2\">\n",
    "我们还可以通过索引访问字符串中的某个字符，或者通过切片操作来截取字符串中的一部分。\n",
    "</div>"
   ]
  },
  {
   "cell_type": "code",
   "execution_count": null,
   "metadata": {},
   "outputs": [],
   "source": [
    "# 通过索引访问字符串的某个字符\n",
    "\n",
    "greeting = 'hello,world!'\n",
    "\n",
    "print(greeting[1]) # 索引从0开始，则1表示第二个字符\n",
    "\n",
    "print(greeting[-1])  # 索引-1表示字符串的最后一个字符"
   ]
  },
  {
   "cell_type": "code",
   "execution_count": null,
   "metadata": {},
   "outputs": [],
   "source": [
    "# 通过切片操作截取字符串中的一部分\n",
    "\n",
    "print(greeting[6:11])  # 切片操作遵循左闭右开原则，即包括左索引对应的字符，但不包括右索引对应的字符\n",
    "\n",
    "print(greeting[-6:-1])  # 通过反向索引的方式输出同样的单词"
   ]
  },
  {
   "cell_type": "code",
   "execution_count": null,
   "metadata": {},
   "outputs": [],
   "source": [
    "# in运算符可以判断字符串是否包括特定的字符\n",
    "\n",
    "print('world' in greeting)"
   ]
  },
  {
   "cell_type": "markdown",
   "metadata": {},
   "source": [
    "<div style=\"font-family:STKaiti;font-size:22px;line-height:2\">\n",
    "Python 支持格式化字符串的输出，字符串格式化需要使用字符串格式化操作符，用%号来表示。在%的左侧放置一个字符串，在右侧放置希望格式化的值，可以只有一个值，如一个字符串或者数字；也可以使用多个值，此时必须用元组或字典的形式表示。\n",
    "</div>"
   ]
  },
  {
   "cell_type": "code",
   "execution_count": null,
   "metadata": {},
   "outputs": [],
   "source": [
    "string = \"My name is %s, I am %d years old, my weight is %.1f kg.\"  # 占位符以%开始，以数据类型结束\n",
    "\n",
    "values = ('Jim Green', 18, 56.28)  # 多个值需要用括号括起来，中间用逗号隔开，顺序要一一对应\n",
    "\n",
    "print(string % values)  # %号的左侧是格式化字符串，右侧是想要格式化的值"
   ]
  },
  {
   "cell_type": "markdown",
   "metadata": {},
   "source": [
    "<div style=\"font-family:STKaiti;font-size:22px;line-height:2\">\n",
    "字符串方法可对字符串执行特定的操作。\n",
    "</div>"
   ]
  },
  {
   "cell_type": "code",
   "execution_count": null,
   "metadata": {},
   "outputs": [],
   "source": [
    "# title()方法将字符串中每个单词的首字母大写\n",
    "\n",
    "ludwig_name = \"ludwig josef johann wittgenstein\"  # 路德维希‧约瑟夫‧约翰‧维特根斯坦\n",
    "\n",
    "print(ludwig_name.title())"
   ]
  },
  {
   "cell_type": "code",
   "execution_count": null,
   "metadata": {},
   "outputs": [],
   "source": [
    "# count(str, beg=0,end=len(string))方法可以计算字符串特定字符出现的次数\n",
    "\n",
    "ludwig_name.count('wi')  # 默认查找的区域从字符串开关开始，到字符串结尾结束"
   ]
  },
  {
   "cell_type": "code",
   "execution_count": null,
   "metadata": {},
   "outputs": [],
   "source": [
    "# find(str, beg=0, end=len(string))方法可以在较长的字符串中查找子字符串\n",
    "\n",
    "print(ludwig_name.find('wi'))  # 从头开始查找wi字符串\n",
    "\n",
    "print(ludwig_name.find('wi',10))  # 指定开始查找的位置，则第一个wi字符串被省略\n",
    "\n",
    "print(ludwig_name.find('ab'))  # 如果没有找到子字符串，则返回-1"
   ]
  },
  {
   "cell_type": "code",
   "execution_count": null,
   "metadata": {},
   "outputs": [],
   "source": [
    "# replace(old, new [, max])方法可以实现查找并替换特定的字符串\n",
    "\n",
    "print(ludwig_name.replace('wi','WI'))\n",
    "\n",
    "print(ludwig_name.replace('wi','WI',1))  # 将最多替换次数设置为一次"
   ]
  },
  {
   "cell_type": "code",
   "execution_count": null,
   "metadata": {},
   "outputs": [],
   "source": [
    "# join(seq)方法于将序列中的元素以指定的字符连接生成一个新的字符串\n",
    "\n",
    "separator = '+'  # 分隔符，用于连接序列中的元素\n",
    "\n",
    "numbers = ['1','2','3','4','5']  # 序列可以是列表，也可以是元组\n",
    "\n",
    "print(separator.join(numbers))"
   ]
  },
  {
   "cell_type": "code",
   "execution_count": null,
   "metadata": {},
   "outputs": [],
   "source": [
    "# split(sep=None, maxsplit=-1)方法以 sep 为分隔符截取字符串\n",
    "\n",
    "names = 'Jim Green, Bruce Lee, Will Smith, Jack Chen, David Fuller'\n",
    "\n",
    "print(names.split(','))  # 以英文逗号为分割符，没有指定分割次数，则默认分割所有子字符串\n",
    "\n",
    "print(ludwig_name.split(maxsplit=2))  # 默认以空格为分隔符，指定最大分割数为两次，则分割为三个子字符串"
   ]
  },
  {
   "cell_type": "markdown",
   "metadata": {},
   "source": [
    "<div style=\"font-family:STKaiti;font-size:26px;font-weight:Bold;color:black\">\n",
    "    <u> 三、练习 </u>\n",
    "</div>"
   ]
  },
  {
   "cell_type": "markdown",
   "metadata": {},
   "source": [
    "<div style=\"font-family:STKaiti;font-size:22px;line-height:2\">\n",
    "(1) 调用内置函数pow计算2的30次方,使用help函数查看它的帮助说明。\n",
    "</div>"
   ]
  },
  {
   "cell_type": "code",
   "execution_count": null,
   "metadata": {},
   "outputs": [],
   "source": [
    "\n",
    "\n"
   ]
  },
  {
   "cell_type": "markdown",
   "metadata": {},
   "source": [
    "<div style=\"font-family:STKaiti;font-size:22px;line-height:2\">\n",
    "(2) Guido Van Rossum现年64岁，性别男，国籍为荷兰,命名四个变量分别存储他的姓名、年龄、性别和国籍信息，并为这四个变量赋值。\n",
    "</div>"
   ]
  },
  {
   "cell_type": "code",
   "execution_count": null,
   "metadata": {},
   "outputs": [],
   "source": [
    "\n",
    "\n"
   ]
  },
  {
   "cell_type": "markdown",
   "metadata": {},
   "source": [
    "<div style=\"font-family:STKaiti;font-size:22px;line-height:2\">\n",
    "(3) 计算$\\left( 199-120 \\right) ^4+52^2\\times \\left( 23-120\\div 24 \\right) \\%3$\n",
    "</div>"
   ]
  },
  {
   "cell_type": "code",
   "execution_count": null,
   "metadata": {},
   "outputs": [],
   "source": [
    "\n",
    "\n"
   ]
  },
  {
   "cell_type": "markdown",
   "metadata": {},
   "source": [
    "<div style=\"font-family:STKaiti;font-size:22px;line-height:2\">\n",
    "(4) 对于短语 <strong><em>cogito,ergo sum</em></strong>，分别使用正向与反向索引输出最后一个单词。 \n",
    "</div>"
   ]
  },
  {
   "cell_type": "code",
   "execution_count": null,
   "metadata": {},
   "outputs": [],
   "source": [
    "\n",
    "\n"
   ]
  },
  {
   "cell_type": "markdown",
   "metadata": {},
   "source": [
    "<div style=\"font-family:STKaiti;font-size:22px;line-height:2\">\n",
    "<p>(4) 对以下字符串进行格式化(方括号表示需要填入值的位置，需要填入的值见注释)：</p>\n",
    "<blockquote><p>In December [], Van Rossum had been looking for a hobby programming project that would keep him occupied during the week around Christmas as his office was closed when he decided to write an interpreter for a new []. He attributes choosing the name &quot;Python&quot; to being in a slightly irreverent mood (and a big fan of []).</p>\n",
    "</blockquote>\n",
    "\n",
    "</div>"
   ]
  },
  {
   "cell_type": "code",
   "execution_count": null,
   "metadata": {},
   "outputs": [],
   "source": [
    "# 需要填入的值依次为 1989，scripting language，Monty Python's Flying Circus\n",
    "\n"
   ]
  },
  {
   "cell_type": "markdown",
   "metadata": {},
   "source": [
    "<div style=\"font-family:STKaiti;font-size:22px;line-height:2\">\n",
    "<p>(5)计算以下字符串中字母o出现的次数，并将其替换为大写字母，然后以其为分隔符把整个字符串进行分割：</p>\n",
    "<blockquote><p>Python is an interpreted, high-level, general-purpose programming language. </p>\n",
    "</blockquote>\n",
    "\n",
    "</div>"
   ]
  },
  {
   "cell_type": "code",
   "execution_count": null,
   "metadata": {},
   "outputs": [],
   "source": [
    "\n",
    "\n"
   ]
  }
 ],
 "metadata": {
  "kernelspec": {
   "display_name": "Python 3",
   "language": "python",
   "name": "python3"
  },
  "language_info": {
   "codemirror_mode": {
    "name": "ipython",
    "version": 3
   },
   "file_extension": ".py",
   "mimetype": "text/x-python",
   "name": "python",
   "nbconvert_exporter": "python",
   "pygments_lexer": "ipython3",
   "version": "3.7.3"
  }
 },
 "nbformat": 4,
 "nbformat_minor": 4
}
